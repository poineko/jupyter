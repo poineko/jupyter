{
 "cells": [
  {
   "cell_type": "code",
   "execution_count": 1,
   "id": "cheap-entrepreneur",
   "metadata": {},
   "outputs": [],
   "source": [
    "# import library\n",
    "import json\n",
    "from string import punctuation\n",
    "import random\n",
    "import pickle\n",
    "from tensorflow.keras.models import load_model"
   ]
  },
  {
   "cell_type": "code",
   "execution_count": 2,
   "id": "compatible-offer",
   "metadata": {},
   "outputs": [],
   "source": [
    "with open(\"data/intents.json\") as data_file:\n",
    "    data = json.load(data_file)\n",
    "model = load_model('bot_model.tf')\n",
    "le_filename = open(\"label_encoder.pickle\", \"rb\")\n",
    "le = pickle.load(le_filename)\n",
    "le_filename.close()"
   ]
  },
  {
   "cell_type": "code",
   "execution_count": 3,
   "id": "central-partner",
   "metadata": {},
   "outputs": [],
   "source": [
    "def preprocess_string(string):\n",
    "    string = string.lower()\n",
    "    exclude = set(punctuation)\n",
    "    string = ''.join(ch for ch in string if ch not in exclude)\n",
    "    return string"
   ]
  },
  {
   "cell_type": "code",
   "execution_count": 4,
   "id": "handy-olive",
   "metadata": {},
   "outputs": [],
   "source": [
    "def chat(model):\n",
    "    print(\"Anda akan dihubungkan ke bot kami, mohon ditunggu\")\n",
    "    exit = False\n",
    "    while not exit:\n",
    "        inp = input(\"Anda : \")\n",
    "        inp = preprocess_string(inp)\n",
    "        prob = model.predict([inp])\n",
    "        results = le.classes_[prob.argmax()]\n",
    "        if prob.max() < 0.2:\n",
    "            print(\"Bot : Maaf kak, aku ga ngerti\")\n",
    "        else:\n",
    "            for tg in data['intents']:\n",
    "                if tg['tag'] == results:\n",
    "                    responses = tg['responses']\n",
    "            if results == 'bye':\n",
    "                exit = True\n",
    "                print(\"END CHAT\")\n",
    "            print(f\"Bot : {random.choice(responses)}\")"
   ]
  },
  {
   "cell_type": "code",
   "execution_count": null,
   "id": "purple-concert",
   "metadata": {},
   "outputs": [
    {
     "name": "stdout",
     "output_type": "stream",
     "text": [
      "Anda akan dihubungkan ke bot kami, mohon ditunggu\n",
      "Anda : halo\n",
      "1/1 [==============================] - 0s 45ms/step\n",
      "Bot : Halo selamat datang\n",
      "Anda : saya mau nikah\n",
      "1/1 [==============================] - 0s 45ms/step\n",
      "Bot : Orang yang akan rujuk, harus datang bersama istrinya ke Kantor Urusan Agama yang mewilayahi tempat tinggal istri, dengan membawa dan menyerahkan surat-surat sebagai berikut :1. Foto Copy KTP dan Kartu Keluarga (KK) masing-masing 1 (satu) lembar. 2. Surat Keterangan untuk rujuk dari Kepala Desa/Lurah tempat berdomisili (blanko model R1). 3. Akta Cerai asli beserta lampiran putusan dari Pengadilan Agama. Sebelum rujuk dicatat akan diperiksa terlebih dahulu : 1. Apakah suami yang akan merujuk itu memenuhi syarat-syarat rujuk. 2. Apakah rujuk yang akan dilakukan itu masih dalam masa iddah talak raji. 3. Apakah perempuan yang akan dirujuk itu bekas istrinya.  4. Apakah ada persetujuan bekas istri.\n",
      "Anda : nikah bg, bukan rujuk\n",
      "1/1 [==============================] - 0s 50ms/step\n",
      "Bot : Pokoknya yang berhubungan sama KUA kak :)\n",
      "Anda : dh lh\n",
      "1/1 [==============================] - 0s 40ms/step\n",
      "Bot : Saya membantu massyarakat bukit raya yang terkait dengan Kantor Urusan Agama\n",
      "Anda : tolol\n",
      "1/1 [==============================] - 0s 47ms/step\n",
      "Bot : Saya membantu massyarakat bukit raya yang terkait dengan Kantor Urusan Agama\n",
      "Anda : kontoll\n",
      "1/1 [==============================] - 0s 40ms/step\n",
      "Bot : Saya membantu massyarakat bukit raya yang terkait dengan Kantor Urusan Agama\n",
      "Anda : cara menikah\n",
      "1/1 [==============================] - 0s 45ms/step\n",
      "Bot : Kenalin, aku KUAbot!\n"
     ]
    }
   ],
   "source": [
    "if __name__ == \"__main__\":\n",
    "    chat(model)"
   ]
  }
 ],
 "metadata": {
  "kernelspec": {
   "display_name": "Python 3",
   "language": "python",
   "name": "python3"
  },
  "language_info": {
   "codemirror_mode": {
    "name": "ipython",
    "version": 3
   },
   "file_extension": ".py",
   "mimetype": "text/x-python",
   "name": "python",
   "nbconvert_exporter": "python",
   "pygments_lexer": "ipython3",
   "version": "3.9.2"
  }
 },
 "nbformat": 4,
 "nbformat_minor": 5
}
