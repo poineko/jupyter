{
 "cells": [
  {
   "cell_type": "markdown",
   "id": "aware-palestine",
   "metadata": {},
   "source": [
    "\n",
    "\n",
    "    Nama  : Muhammad Ihsan Al Riawi\n",
    "\n",
    "    NPM   : 193510482\n",
    "\n",
    "    KELAS : IV E\n",
    "\n"
   ]
  },
  {
   "cell_type": "markdown",
   "id": "organic-wilson",
   "metadata": {},
   "source": [
    "# Data Types"
   ]
  },
  {
   "cell_type": "markdown",
   "id": "liable-essay",
   "metadata": {},
   "source": [
    "## Numbers"
   ]
  },
  {
   "cell_type": "code",
   "execution_count": 1,
   "id": "vocal-pavilion",
   "metadata": {},
   "outputs": [
    {
     "data": {
      "text/plain": [
       "7"
      ]
     },
     "execution_count": 1,
     "metadata": {},
     "output_type": "execute_result"
    }
   ],
   "source": [
    " 1 + 6"
   ]
  },
  {
   "cell_type": "code",
   "execution_count": 2,
   "id": "convertible-roller",
   "metadata": {},
   "outputs": [
    {
     "data": {
      "text/plain": [
       "10.5"
      ]
     },
     "execution_count": 2,
     "metadata": {},
     "output_type": "execute_result"
    }
   ],
   "source": [
    "3.5 * 3"
   ]
  },
  {
   "cell_type": "code",
   "execution_count": 3,
   "id": "false-triumph",
   "metadata": {},
   "outputs": [
    {
     "data": {
      "text/plain": [
       "3.0"
      ]
     },
     "execution_count": 3,
     "metadata": {},
     "output_type": "execute_result"
    }
   ],
   "source": [
    "6 / 2"
   ]
  },
  {
   "cell_type": "code",
   "execution_count": 4,
   "id": "athletic-century",
   "metadata": {},
   "outputs": [
    {
     "data": {
      "text/plain": [
       "0"
      ]
     },
     "execution_count": 4,
     "metadata": {},
     "output_type": "execute_result"
    }
   ],
   "source": [
    "4 % 2"
   ]
  },
  {
   "cell_type": "code",
   "execution_count": 5,
   "id": "athletic-steering",
   "metadata": {},
   "outputs": [
    {
     "data": {
      "text/plain": [
       "16"
      ]
     },
     "execution_count": 5,
     "metadata": {},
     "output_type": "execute_result"
    }
   ],
   "source": [
    "2 ** 4"
   ]
  },
  {
   "cell_type": "code",
   "execution_count": 6,
   "id": "minus-colors",
   "metadata": {},
   "outputs": [
    {
     "data": {
      "text/plain": [
       "-2"
      ]
     },
     "execution_count": 6,
     "metadata": {},
     "output_type": "execute_result"
    }
   ],
   "source": [
    "6 - 8"
   ]
  },
  {
   "cell_type": "code",
   "execution_count": 9,
   "id": "handed-clinton",
   "metadata": {},
   "outputs": [],
   "source": [
    "panjang = 23"
   ]
  },
  {
   "cell_type": "code",
   "execution_count": 10,
   "id": "known-large",
   "metadata": {},
   "outputs": [],
   "source": [
    "lebar = 2.5"
   ]
  },
  {
   "cell_type": "code",
   "execution_count": 11,
   "id": "greek-bailey",
   "metadata": {},
   "outputs": [],
   "source": [
    "luas = panjang * lebar"
   ]
  },
  {
   "cell_type": "code",
   "execution_count": 12,
   "id": "working-sheriff",
   "metadata": {},
   "outputs": [
    {
     "data": {
      "text/plain": [
       "57.5"
      ]
     },
     "execution_count": 12,
     "metadata": {},
     "output_type": "execute_result"
    }
   ],
   "source": [
    "luas"
   ]
  },
  {
   "cell_type": "markdown",
   "id": "novel-tunisia",
   "metadata": {},
   "source": [
    "## Strings"
   ]
  },
  {
   "cell_type": "code",
   "execution_count": 13,
   "id": "ongoing-replacement",
   "metadata": {},
   "outputs": [
    {
     "data": {
      "text/plain": [
       "'ini adalah text'"
      ]
     },
     "execution_count": 13,
     "metadata": {},
     "output_type": "execute_result"
    }
   ],
   "source": [
    "'ini adalah text'"
   ]
  },
  {
   "cell_type": "code",
   "execution_count": 14,
   "id": "attended-resource",
   "metadata": {},
   "outputs": [
    {
     "data": {
      "text/plain": [
       "'ini adalah text'"
      ]
     },
     "execution_count": 14,
     "metadata": {},
     "output_type": "execute_result"
    }
   ],
   "source": [
    "\"ini adalah text\""
   ]
  },
  {
   "cell_type": "code",
   "execution_count": 28,
   "id": "suspended-biodiversity",
   "metadata": {},
   "outputs": [],
   "source": [
    "kata = \"Al-Qur'an\""
   ]
  },
  {
   "cell_type": "code",
   "execution_count": 17,
   "id": "stone-jerusalem",
   "metadata": {},
   "outputs": [
    {
     "data": {
      "text/plain": [
       "\"Al - Qur'an\""
      ]
     },
     "execution_count": 17,
     "metadata": {},
     "output_type": "execute_result"
    }
   ],
   "source": [
    "kata"
   ]
  },
  {
   "cell_type": "code",
   "execution_count": 18,
   "id": "authorized-wisdom",
   "metadata": {},
   "outputs": [
    {
     "name": "stdout",
     "output_type": "stream",
     "text": [
      "Al - Qur'an\n"
     ]
    }
   ],
   "source": [
    "print(kata)"
   ]
  },
  {
   "cell_type": "code",
   "execution_count": 19,
   "id": "super-cornwall",
   "metadata": {},
   "outputs": [
    {
     "name": "stdout",
     "output_type": "stream",
     "text": [
      "57.5 Al - Qur'an\n"
     ]
    }
   ],
   "source": [
    "print(luas , kata)"
   ]
  },
  {
   "cell_type": "markdown",
   "id": "economic-grass",
   "metadata": {},
   "source": [
    "## Print Formatting"
   ]
  },
  {
   "cell_type": "code",
   "execution_count": 24,
   "id": "statutory-cartoon",
   "metadata": {},
   "outputs": [
    {
     "name": "stdout",
     "output_type": "stream",
     "text": [
      "luas: 57.5 dan kata: Al - Qur'an\n"
     ]
    }
   ],
   "source": [
    "print(\"luas: {} dan kata: {}\".format(luas,kata))"
   ]
  },
  {
   "cell_type": "code",
   "execution_count": 25,
   "id": "surrounded-summary",
   "metadata": {},
   "outputs": [
    {
     "name": "stdout",
     "output_type": "stream",
     "text": [
      "luas: 57.5 dan kata: Al - Qur'an\n"
     ]
    }
   ],
   "source": [
    "print(f\"luas: {luas} dan kata: {kata}\")"
   ]
  },
  {
   "cell_type": "markdown",
   "id": "every-alert",
   "metadata": {},
   "source": [
    "## List"
   ]
  },
  {
   "cell_type": "code",
   "execution_count": 29,
   "id": "limiting-disclaimer",
   "metadata": {},
   "outputs": [
    {
     "data": {
      "text/plain": [
       "'Q'"
      ]
     },
     "execution_count": 29,
     "metadata": {},
     "output_type": "execute_result"
    }
   ],
   "source": [
    "kata[3]"
   ]
  },
  {
   "cell_type": "code",
   "execution_count": 30,
   "id": "threatened-audit",
   "metadata": {},
   "outputs": [
    {
     "data": {
      "text/plain": [
       "'n'"
      ]
     },
     "execution_count": 30,
     "metadata": {},
     "output_type": "execute_result"
    }
   ],
   "source": [
    "kata[-1]"
   ]
  },
  {
   "cell_type": "code",
   "execution_count": 31,
   "id": "worldwide-precipitation",
   "metadata": {},
   "outputs": [
    {
     "data": {
      "text/plain": [
       "'Al'"
      ]
     },
     "execution_count": 31,
     "metadata": {},
     "output_type": "execute_result"
    }
   ],
   "source": [
    "kata[:2]"
   ]
  },
  {
   "cell_type": "code",
   "execution_count": 32,
   "id": "known-argentina",
   "metadata": {},
   "outputs": [
    {
     "data": {
      "text/plain": [
       "\"Qur'an\""
      ]
     },
     "execution_count": 32,
     "metadata": {},
     "output_type": "execute_result"
    }
   ],
   "source": [
    "kata[3:]"
   ]
  },
  {
   "cell_type": "code",
   "execution_count": 33,
   "id": "worst-california",
   "metadata": {},
   "outputs": [
    {
     "data": {
      "text/plain": [
       "'Qur'"
      ]
     },
     "execution_count": 33,
     "metadata": {},
     "output_type": "execute_result"
    }
   ],
   "source": [
    "kata[3:6]"
   ]
  },
  {
   "cell_type": "code",
   "execution_count": 34,
   "id": "declared-inside",
   "metadata": {},
   "outputs": [],
   "source": [
    "umur = [20,23,45,16]"
   ]
  },
  {
   "cell_type": "code",
   "execution_count": 35,
   "id": "nervous-satellite",
   "metadata": {},
   "outputs": [
    {
     "data": {
      "text/plain": [
       "[20, 23, 45, 16]"
      ]
     },
     "execution_count": 35,
     "metadata": {},
     "output_type": "execute_result"
    }
   ],
   "source": [
    "umur"
   ]
  },
  {
   "cell_type": "code",
   "execution_count": 36,
   "id": "incorporated-drinking",
   "metadata": {},
   "outputs": [
    {
     "data": {
      "text/plain": [
       "45"
      ]
     },
     "execution_count": 36,
     "metadata": {},
     "output_type": "execute_result"
    }
   ],
   "source": [
    "umur[2]"
   ]
  },
  {
   "cell_type": "code",
   "execution_count": 11,
   "id": "sophisticated-picture",
   "metadata": {},
   "outputs": [],
   "source": [
    "nama = [\"sayaa\",\"diaa\",\"merekaa\",\"kaliaan\"]"
   ]
  },
  {
   "cell_type": "code",
   "execution_count": 12,
   "id": "blank-switch",
   "metadata": {},
   "outputs": [],
   "source": [
    "nama.append('omae')"
   ]
  },
  {
   "cell_type": "code",
   "execution_count": 13,
   "id": "nuclear-mattress",
   "metadata": {},
   "outputs": [
    {
     "data": {
      "text/plain": [
       "['sayaa', 'diaa', 'merekaa', 'kaliaan', 'omae']"
      ]
     },
     "execution_count": 13,
     "metadata": {},
     "output_type": "execute_result"
    }
   ],
   "source": [
    "nama"
   ]
  },
  {
   "cell_type": "code",
   "execution_count": 47,
   "id": "cordless-bacteria",
   "metadata": {},
   "outputs": [
    {
     "data": {
      "text/plain": [
       "'sayaa'"
      ]
     },
     "execution_count": 47,
     "metadata": {},
     "output_type": "execute_result"
    }
   ],
   "source": [
    "nama[0]"
   ]
  },
  {
   "cell_type": "code",
   "execution_count": 39,
   "id": "assumed-father",
   "metadata": {},
   "outputs": [
    {
     "data": {
      "text/plain": [
       "'s'"
      ]
     },
     "execution_count": 39,
     "metadata": {},
     "output_type": "execute_result"
    }
   ],
   "source": [
    "nama[0][0]"
   ]
  },
  {
   "cell_type": "code",
   "execution_count": 48,
   "id": "expensive-indication",
   "metadata": {},
   "outputs": [],
   "source": [
    "biodata = [nama,umur]"
   ]
  },
  {
   "cell_type": "code",
   "execution_count": 49,
   "id": "intelligent-anatomy",
   "metadata": {},
   "outputs": [
    {
     "data": {
      "text/plain": [
       "[['sayaa', 'diaa', 'merekaa', 'kaliaan'], [20, 23, 45, 16]]"
      ]
     },
     "execution_count": 49,
     "metadata": {},
     "output_type": "execute_result"
    }
   ],
   "source": [
    "biodata"
   ]
  },
  {
   "cell_type": "code",
   "execution_count": 50,
   "id": "boring-transaction",
   "metadata": {
    "scrolled": true
   },
   "outputs": [
    {
     "data": {
      "text/plain": [
       "16"
      ]
     },
     "execution_count": 50,
     "metadata": {},
     "output_type": "execute_result"
    }
   ],
   "source": [
    "biodata[1][-1]"
   ]
  },
  {
   "cell_type": "markdown",
   "id": "surrounded-charter",
   "metadata": {},
   "source": [
    "## Dictionaries"
   ]
  },
  {
   "cell_type": "code",
   "execution_count": null,
   "id": "popular-brass",
   "metadata": {},
   "outputs": [],
   "source": [
    "{'key':'value'}"
   ]
  },
  {
   "cell_type": "code",
   "execution_count": 2,
   "id": "alpine-newton",
   "metadata": {},
   "outputs": [
    {
     "data": {
      "text/plain": [
       "{'sinta': 'perempuan'}"
      ]
     },
     "execution_count": 2,
     "metadata": {},
     "output_type": "execute_result"
    }
   ],
   "source": [
    "{'sinta':'perempuan'}"
   ]
  },
  {
   "cell_type": "code",
   "execution_count": 3,
   "id": "sublime-purse",
   "metadata": {},
   "outputs": [],
   "source": [
    "user = {'sinta':20,'badu':32}"
   ]
  },
  {
   "cell_type": "code",
   "execution_count": 4,
   "id": "loaded-council",
   "metadata": {},
   "outputs": [
    {
     "data": {
      "text/plain": [
       "20"
      ]
     },
     "execution_count": 4,
     "metadata": {},
     "output_type": "execute_result"
    }
   ],
   "source": [
    "user['sinta']"
   ]
  },
  {
   "cell_type": "code",
   "execution_count": 5,
   "id": "protective-reporter",
   "metadata": {},
   "outputs": [],
   "source": [
    "user['tony'] = 23"
   ]
  },
  {
   "cell_type": "code",
   "execution_count": 6,
   "id": "breathing-dubai",
   "metadata": {},
   "outputs": [
    {
     "data": {
      "text/plain": [
       "{'sinta': 20, 'badu': 32, 'tony': 23}"
      ]
     },
     "execution_count": 6,
     "metadata": {},
     "output_type": "execute_result"
    }
   ],
   "source": [
    "user"
   ]
  },
  {
   "cell_type": "markdown",
   "id": "parliamentary-affairs",
   "metadata": {},
   "source": [
    "## Tuples"
   ]
  },
  {
   "cell_type": "code",
   "execution_count": 14,
   "id": "synthetic-nerve",
   "metadata": {},
   "outputs": [],
   "source": [
    "nama = ('saya','dia','mereka')"
   ]
  },
  {
   "cell_type": "code",
   "execution_count": null,
   "id": "caring-animal",
   "metadata": {},
   "outputs": [],
   "source": [
    "\\\\data pada tuple tidak bisa di ubah\\\\"
   ]
  },
  {
   "cell_type": "code",
   "execution_count": 15,
   "id": "younger-costume",
   "metadata": {},
   "outputs": [],
   "source": [
    "dosen = []"
   ]
  },
  {
   "cell_type": "code",
   "execution_count": 16,
   "id": "removable-article",
   "metadata": {},
   "outputs": [],
   "source": [
    "dosen.append(('1023048901','Arbi Haza Nasution'))"
   ]
  },
  {
   "cell_type": "code",
   "execution_count": 17,
   "id": "baking-engineering",
   "metadata": {},
   "outputs": [
    {
     "data": {
      "text/plain": [
       "[('1023048901', 'Arbi Haza Nasution')]"
      ]
     },
     "execution_count": 17,
     "metadata": {},
     "output_type": "execute_result"
    }
   ],
   "source": [
    "dosen"
   ]
  },
  {
   "cell_type": "code",
   "execution_count": 18,
   "id": "entire-density",
   "metadata": {},
   "outputs": [],
   "source": [
    "dosen.append(('1023048854','Winda Monika'))"
   ]
  },
  {
   "cell_type": "code",
   "execution_count": 19,
   "id": "extra-nudist",
   "metadata": {},
   "outputs": [
    {
     "data": {
      "text/plain": [
       "[('1023048901', 'Arbi Haza Nasution'), ('1023048854', 'Winda Monika')]"
      ]
     },
     "execution_count": 19,
     "metadata": {},
     "output_type": "execute_result"
    }
   ],
   "source": [
    "dosen"
   ]
  },
  {
   "cell_type": "markdown",
   "id": "smooth-champion",
   "metadata": {},
   "source": [
    "## Sets"
   ]
  },
  {
   "cell_type": "code",
   "execution_count": null,
   "id": "differential-nevada",
   "metadata": {},
   "outputs": [],
   "source": [
    "\\\\value dari sets itu unik, yang mana value nya yang duplikat atau sama ketika di tambah kan (add).\n",
    "data juga akan menjadi sequentially (berurut) jika data sebelum nya acak"
   ]
  },
  {
   "cell_type": "code",
   "execution_count": 20,
   "id": "manufactured-presence",
   "metadata": {},
   "outputs": [],
   "source": [
    "num = {1,2,3,4}"
   ]
  },
  {
   "cell_type": "code",
   "execution_count": 21,
   "id": "technological-portsmouth",
   "metadata": {},
   "outputs": [],
   "source": [
    "num.add(5)"
   ]
  },
  {
   "cell_type": "code",
   "execution_count": 22,
   "id": "pleased-bobby",
   "metadata": {},
   "outputs": [],
   "source": [
    "num.add(2)"
   ]
  },
  {
   "cell_type": "code",
   "execution_count": 23,
   "id": "nonprofit-chassis",
   "metadata": {},
   "outputs": [
    {
     "data": {
      "text/plain": [
       "{1, 2, 3, 4, 5}"
      ]
     },
     "execution_count": 23,
     "metadata": {},
     "output_type": "execute_result"
    }
   ],
   "source": [
    "num"
   ]
  },
  {
   "cell_type": "code",
   "execution_count": 24,
   "id": "cordless-draft",
   "metadata": {},
   "outputs": [],
   "source": [
    "numlist = [1,2,3,4]"
   ]
  },
  {
   "cell_type": "code",
   "execution_count": 29,
   "id": "recorded-appeal",
   "metadata": {},
   "outputs": [],
   "source": [
    "numlist.append(2)"
   ]
  },
  {
   "cell_type": "code",
   "execution_count": 30,
   "id": "prompt-stationery",
   "metadata": {},
   "outputs": [
    {
     "data": {
      "text/plain": [
       "[1, 2, 3, 4, 2]"
      ]
     },
     "execution_count": 30,
     "metadata": {},
     "output_type": "execute_result"
    }
   ],
   "source": [
    "numlist"
   ]
  },
  {
   "cell_type": "code",
   "execution_count": 31,
   "id": "premium-longer",
   "metadata": {},
   "outputs": [],
   "source": [
    "numlist.append(5)"
   ]
  },
  {
   "cell_type": "code",
   "execution_count": 32,
   "id": "rapid-fabric",
   "metadata": {},
   "outputs": [
    {
     "data": {
      "text/plain": [
       "5"
      ]
     },
     "execution_count": 32,
     "metadata": {},
     "output_type": "execute_result"
    }
   ],
   "source": [
    "numlist.pop()"
   ]
  },
  {
   "cell_type": "code",
   "execution_count": 33,
   "id": "occupied-special",
   "metadata": {},
   "outputs": [
    {
     "data": {
      "text/plain": [
       "[1, 2, 3, 4, 2]"
      ]
     },
     "execution_count": 33,
     "metadata": {},
     "output_type": "execute_result"
    }
   ],
   "source": [
    "numlist"
   ]
  },
  {
   "cell_type": "code",
   "execution_count": 34,
   "id": "quiet-governor",
   "metadata": {},
   "outputs": [
    {
     "data": {
      "text/plain": [
       "1"
      ]
     },
     "execution_count": 34,
     "metadata": {},
     "output_type": "execute_result"
    }
   ],
   "source": [
    "numlist.pop(0)"
   ]
  },
  {
   "cell_type": "code",
   "execution_count": 35,
   "id": "respected-extreme",
   "metadata": {},
   "outputs": [
    {
     "data": {
      "text/plain": [
       "[2, 3, 4, 2]"
      ]
     },
     "execution_count": 35,
     "metadata": {},
     "output_type": "execute_result"
    }
   ],
   "source": [
    "numlist"
   ]
  },
  {
   "cell_type": "code",
   "execution_count": 41,
   "id": "solved-appointment",
   "metadata": {},
   "outputs": [],
   "source": [
    "ListToSets = [1,1,2,3,5,5,4,8,6,6,7,7,10]"
   ]
  },
  {
   "cell_type": "code",
   "execution_count": 42,
   "id": "preceding-grove",
   "metadata": {},
   "outputs": [
    {
     "data": {
      "text/plain": [
       "[1, 1, 2, 3, 5, 5, 4, 8, 6, 6, 7, 7, 10]"
      ]
     },
     "execution_count": 42,
     "metadata": {},
     "output_type": "execute_result"
    }
   ],
   "source": [
    "ListToSets"
   ]
  },
  {
   "cell_type": "code",
   "execution_count": 43,
   "id": "former-greenhouse",
   "metadata": {},
   "outputs": [],
   "source": [
    "numset = set(ListToSets)"
   ]
  },
  {
   "cell_type": "code",
   "execution_count": 44,
   "id": "municipal-louisville",
   "metadata": {},
   "outputs": [
    {
     "data": {
      "text/plain": [
       "{1, 2, 3, 4, 5, 6, 7, 8, 10}"
      ]
     },
     "execution_count": 44,
     "metadata": {},
     "output_type": "execute_result"
    }
   ],
   "source": [
    "numset"
   ]
  },
  {
   "cell_type": "code",
   "execution_count": 45,
   "id": "previous-activity",
   "metadata": {},
   "outputs": [],
   "source": [
    "numset.add(9)"
   ]
  },
  {
   "cell_type": "code",
   "execution_count": 46,
   "id": "resistant-vector",
   "metadata": {},
   "outputs": [
    {
     "data": {
      "text/plain": [
       "{1, 2, 3, 4, 5, 6, 7, 8, 9, 10}"
      ]
     },
     "execution_count": 46,
     "metadata": {},
     "output_type": "execute_result"
    }
   ],
   "source": [
    "numset"
   ]
  },
  {
   "cell_type": "code",
   "execution_count": 47,
   "id": "israeli-interaction",
   "metadata": {},
   "outputs": [],
   "source": [
    "ListToSets = list(numset)"
   ]
  },
  {
   "cell_type": "code",
   "execution_count": 48,
   "id": "imperial-ridge",
   "metadata": {},
   "outputs": [
    {
     "data": {
      "text/plain": [
       "[1, 2, 3, 4, 5, 6, 7, 8, 9, 10]"
      ]
     },
     "execution_count": 48,
     "metadata": {},
     "output_type": "execute_result"
    }
   ],
   "source": [
    "ListToSets"
   ]
  },
  {
   "cell_type": "markdown",
   "id": "prescription-forum",
   "metadata": {},
   "source": [
    "## Boolean"
   ]
  },
  {
   "cell_type": "code",
   "execution_count": 2,
   "id": "active-antenna",
   "metadata": {},
   "outputs": [
    {
     "data": {
      "text/plain": [
       "True"
      ]
     },
     "execution_count": 2,
     "metadata": {},
     "output_type": "execute_result"
    }
   ],
   "source": [
    "True"
   ]
  },
  {
   "cell_type": "code",
   "execution_count": 3,
   "id": "entertaining-object",
   "metadata": {},
   "outputs": [
    {
     "data": {
      "text/plain": [
       "False"
      ]
     },
     "execution_count": 3,
     "metadata": {},
     "output_type": "execute_result"
    }
   ],
   "source": [
    "False"
   ]
  },
  {
   "cell_type": "code",
   "execution_count": 4,
   "id": "studied-lebanon",
   "metadata": {},
   "outputs": [
    {
     "data": {
      "text/plain": [
       "False"
      ]
     },
     "execution_count": 4,
     "metadata": {},
     "output_type": "execute_result"
    }
   ],
   "source": [
    "True and False"
   ]
  },
  {
   "cell_type": "code",
   "execution_count": 5,
   "id": "tight-folder",
   "metadata": {},
   "outputs": [
    {
     "data": {
      "text/plain": [
       "True"
      ]
     },
     "execution_count": 5,
     "metadata": {},
     "output_type": "execute_result"
    }
   ],
   "source": [
    "False or True"
   ]
  },
  {
   "cell_type": "markdown",
   "id": "trained-edwards",
   "metadata": {},
   "source": [
    "## Coparison Operators"
   ]
  },
  {
   "cell_type": "code",
   "execution_count": 6,
   "id": "complete-powell",
   "metadata": {},
   "outputs": [
    {
     "data": {
      "text/plain": [
       "False"
      ]
     },
     "execution_count": 6,
     "metadata": {},
     "output_type": "execute_result"
    }
   ],
   "source": [
    "1 > 5"
   ]
  },
  {
   "cell_type": "code",
   "execution_count": 7,
   "id": "chronic-tower",
   "metadata": {},
   "outputs": [
    {
     "data": {
      "text/plain": [
       "True"
      ]
     },
     "execution_count": 7,
     "metadata": {},
     "output_type": "execute_result"
    }
   ],
   "source": [
    "1 < 5"
   ]
  },
  {
   "cell_type": "code",
   "execution_count": 8,
   "id": "sized-cambodia",
   "metadata": {},
   "outputs": [
    {
     "data": {
      "text/plain": [
       "True"
      ]
     },
     "execution_count": 8,
     "metadata": {},
     "output_type": "execute_result"
    }
   ],
   "source": [
    "1 <= 5"
   ]
  },
  {
   "cell_type": "code",
   "execution_count": 9,
   "id": "subject-turning",
   "metadata": {},
   "outputs": [
    {
     "data": {
      "text/plain": [
       "False"
      ]
     },
     "execution_count": 9,
     "metadata": {},
     "output_type": "execute_result"
    }
   ],
   "source": [
    "1 >= 5"
   ]
  },
  {
   "cell_type": "code",
   "execution_count": 10,
   "id": "opponent-communications",
   "metadata": {},
   "outputs": [
    {
     "data": {
      "text/plain": [
       "True"
      ]
     },
     "execution_count": 10,
     "metadata": {},
     "output_type": "execute_result"
    }
   ],
   "source": [
    "'sinta' == 'sinta'"
   ]
  },
  {
   "cell_type": "code",
   "execution_count": 11,
   "id": "central-romantic",
   "metadata": {},
   "outputs": [
    {
     "data": {
      "text/plain": [
       "False"
      ]
     },
     "execution_count": 11,
     "metadata": {},
     "output_type": "execute_result"
    }
   ],
   "source": [
    "'sinta' != 'sinta'"
   ]
  },
  {
   "cell_type": "markdown",
   "id": "acute-special",
   "metadata": {},
   "source": [
    "## If, elif, and else Statements"
   ]
  },
  {
   "cell_type": "code",
   "execution_count": 12,
   "id": "blond-occurrence",
   "metadata": {
    "scrolled": true
   },
   "outputs": [
    {
     "name": "stdout",
     "output_type": "stream",
     "text": [
      "Selesai\n"
     ]
    }
   ],
   "source": [
    "selesai = True\n",
    "if selesai:\n",
    "    print('Selesai')"
   ]
  },
  {
   "cell_type": "code",
   "execution_count": 17,
   "id": "amended-potter",
   "metadata": {},
   "outputs": [
    {
     "name": "stdout",
     "output_type": "stream",
     "text": [
      "Belum Selesai\n"
     ]
    }
   ],
   "source": [
    "akhir = 4\n",
    "selesai = akhir > 8\n",
    "if selesai:\n",
    "    print('Selesai')\n",
    "else:\n",
    "    print('Belum Selesai')"
   ]
  },
  {
   "cell_type": "code",
   "execution_count": 18,
   "id": "defensive-heating",
   "metadata": {},
   "outputs": [
    {
     "name": "stdout",
     "output_type": "stream",
     "text": [
      "Hampir Selesai\n"
     ]
    }
   ],
   "source": [
    "akhir = 7\n",
    "selesai = akhir > 8\n",
    "if selesai:\n",
    "    print('Selesai')\n",
    "elif akhir > 6:\n",
    "    print('Hampir Selesai')\n",
    "else:\n",
    "    print('Belum Selesai')"
   ]
  },
  {
   "cell_type": "markdown",
   "id": "formed-proposal",
   "metadata": {},
   "source": [
    "## For Loops"
   ]
  },
  {
   "cell_type": "code",
   "execution_count": 21,
   "id": "exclusive-blade",
   "metadata": {},
   "outputs": [
    {
     "name": "stdout",
     "output_type": "stream",
     "text": [
      "1\n",
      "2\n",
      "3\n"
     ]
    }
   ],
   "source": [
    "num = [1, 2, 3]\n",
    "for n in num:\n",
    "    print(n)"
   ]
  },
  {
   "cell_type": "code",
   "execution_count": 24,
   "id": "killing-recycling",
   "metadata": {},
   "outputs": [
    {
     "name": "stdout",
     "output_type": "stream",
     "text": [
      "4\n",
      "5\n",
      "6\n"
     ]
    }
   ],
   "source": [
    "num = [1, 2, 3]\n",
    "numtuples = (4, 5, 6)\n",
    "numset = {7, 8, 9}\n",
    "for b in numtuples:\n",
    "    print(b)"
   ]
  },
  {
   "cell_type": "code",
   "execution_count": 25,
   "id": "responsible-stanley",
   "metadata": {
    "scrolled": true
   },
   "outputs": [
    {
     "name": "stdout",
     "output_type": "stream",
     "text": [
      "8\n",
      "9\n",
      "7\n"
     ]
    }
   ],
   "source": [
    "num = [1, 2, 3]\n",
    "numtuples = (4, 5, 6)\n",
    "numset = {7, 8, 9}\n",
    "for c in numset:\n",
    "    print(c)"
   ]
  },
  {
   "cell_type": "code",
   "execution_count": 27,
   "id": "sonic-vaccine",
   "metadata": {
    "scrolled": true
   },
   "outputs": [
    {
     "name": "stdout",
     "output_type": "stream",
     "text": [
      "('1023048901', 'Arbi Haza Nasution')\n",
      "('1023048854', 'Winda Monika')\n"
     ]
    }
   ],
   "source": [
    "dosen = [('1023048901', 'Arbi Haza Nasution'), ('1023048854', 'Winda Monika')]\n",
    "for n in dosen:\n",
    "    print(n)\n",
    "    \n",
    "   "
   ]
  },
  {
   "cell_type": "code",
   "execution_count": 29,
   "id": "positive-sugar",
   "metadata": {},
   "outputs": [
    {
     "name": "stdout",
     "output_type": "stream",
     "text": [
      "1023048901\n",
      "1023048854\n"
     ]
    }
   ],
   "source": [
    "dosen = [('1023048901', 'Arbi Haza Nasution'), ('1023048854', 'Winda Monika')]\n",
    "for n in dosen:\n",
    "    print(n[0])"
   ]
  },
  {
   "cell_type": "code",
   "execution_count": 28,
   "id": "fantastic-nowhere",
   "metadata": {},
   "outputs": [
    {
     "name": "stdout",
     "output_type": "stream",
     "text": [
      "Arbi Haza Nasution\n",
      "Winda Monika\n"
     ]
    }
   ],
   "source": [
    "dosen = [('1023048901', 'Arbi Haza Nasution'), ('1023048854', 'Winda Monika')]\n",
    "for n in dosen:\n",
    "    print(n[-1])\n",
    "    "
   ]
  },
  {
   "cell_type": "code",
   "execution_count": 26,
   "id": "welcome-context",
   "metadata": {},
   "outputs": [
    {
     "name": "stdout",
     "output_type": "stream",
     "text": [
      "1023048901\n",
      "Arbi Haza Nasution\n",
      "1023048854\n",
      "Winda Monika\n"
     ]
    }
   ],
   "source": [
    "dosen = [('1023048901', 'Arbi Haza Nasution'), ('1023048854', 'Winda Monika')]\n",
    "for nidn, nama in dosen:\n",
    "    print(nidn)\n",
    "    print(nama)"
   ]
  },
  {
   "cell_type": "markdown",
   "id": "south-logging",
   "metadata": {},
   "source": [
    "## While Loops"
   ]
  },
  {
   "cell_type": "code",
   "execution_count": 36,
   "id": "bridal-stuff",
   "metadata": {},
   "outputs": [
    {
     "name": "stdout",
     "output_type": "stream",
     "text": [
      "0\n",
      "1\n",
      "2\n",
      "3\n",
      "4\n",
      "5\n",
      "6\n",
      "7\n",
      "8\n",
      "9\n",
      "10\n"
     ]
    }
   ],
   "source": [
    "batas = 10\n",
    "a = 0\n",
    "while a <= batas:\n",
    "    print(a)\n",
    "    a += 1"
   ]
  },
  {
   "cell_type": "markdown",
   "id": "needed-covering",
   "metadata": {},
   "source": [
    "## Range()"
   ]
  },
  {
   "cell_type": "code",
   "execution_count": null,
   "id": "global-lincoln",
   "metadata": {},
   "outputs": [],
   "source": [
    "range(start , end)"
   ]
  },
  {
   "cell_type": "code",
   "execution_count": 37,
   "id": "smooth-waters",
   "metadata": {},
   "outputs": [
    {
     "data": {
      "text/plain": [
       "range(0, 5)"
      ]
     },
     "execution_count": 37,
     "metadata": {},
     "output_type": "execute_result"
    }
   ],
   "source": [
    "range (5)"
   ]
  },
  {
   "cell_type": "code",
   "execution_count": 38,
   "id": "prospective-audio",
   "metadata": {},
   "outputs": [
    {
     "name": "stdout",
     "output_type": "stream",
     "text": [
      "0\n",
      "1\n",
      "2\n",
      "3\n",
      "4\n"
     ]
    }
   ],
   "source": [
    "for n in range (0, 5):\n",
    "    print(n)"
   ]
  },
  {
   "cell_type": "markdown",
   "id": "durable-lightweight",
   "metadata": {},
   "source": [
    "## List Coprehension"
   ]
  },
  {
   "cell_type": "code",
   "execution_count": 40,
   "id": "civil-nicaragua",
   "metadata": {},
   "outputs": [],
   "source": [
    "num = [1, 2, 3]\n",
    "numkuadrat = []\n",
    "for n in num:\n",
    "    numkuadrat.append(n**2)"
   ]
  },
  {
   "cell_type": "code",
   "execution_count": 41,
   "id": "further-phone",
   "metadata": {},
   "outputs": [
    {
     "data": {
      "text/plain": [
       "[1, 4, 9]"
      ]
     },
     "execution_count": 41,
     "metadata": {},
     "output_type": "execute_result"
    }
   ],
   "source": [
    "numkuadrat"
   ]
  },
  {
   "cell_type": "code",
   "execution_count": null,
   "id": "suited-india",
   "metadata": {},
   "outputs": [],
   "source": [
    "numkuadrat = []\n",
    "for n in num:\n",
    "    numkuadrat.append(n**2)\n",
    "    print(n)"
   ]
  },
  {
   "cell_type": "code",
   "execution_count": 43,
   "id": "surprised-steering",
   "metadata": {},
   "outputs": [],
   "source": [
    "numkuadrat = [n**2 for n in num]"
   ]
  },
  {
   "cell_type": "code",
   "execution_count": 44,
   "id": "prerequisite-benefit",
   "metadata": {},
   "outputs": [
    {
     "data": {
      "text/plain": [
       "[1, 4, 9]"
      ]
     },
     "execution_count": 44,
     "metadata": {},
     "output_type": "execute_result"
    }
   ],
   "source": [
    "numkuadrat"
   ]
  },
  {
   "cell_type": "code",
   "execution_count": 45,
   "id": "certified-nevada",
   "metadata": {},
   "outputs": [],
   "source": [
    "numkalitiga = [n*3 for n in num]"
   ]
  },
  {
   "cell_type": "code",
   "execution_count": 46,
   "id": "proved-mixer",
   "metadata": {},
   "outputs": [
    {
     "data": {
      "text/plain": [
       "[3, 6, 9]"
      ]
     },
     "execution_count": 46,
     "metadata": {},
     "output_type": "execute_result"
    }
   ],
   "source": [
    "numkalitiga"
   ]
  },
  {
   "cell_type": "markdown",
   "id": "progressive-point",
   "metadata": {},
   "source": [
    "## Functions"
   ]
  },
  {
   "cell_type": "code",
   "execution_count": 50,
   "id": "monetary-pursuit",
   "metadata": {},
   "outputs": [],
   "source": [
    "def kuadrat(num):\n",
    "    hasil = num**2\n",
    "    return hasil"
   ]
  },
  {
   "cell_type": "code",
   "execution_count": 47,
   "id": "elder-token",
   "metadata": {},
   "outputs": [],
   "source": [
    "def kuadrat(num):\n",
    "    return num**2"
   ]
  },
  {
   "cell_type": "code",
   "execution_count": 48,
   "id": "sweet-foundation",
   "metadata": {},
   "outputs": [
    {
     "data": {
      "text/plain": [
       "16"
      ]
     },
     "execution_count": 48,
     "metadata": {},
     "output_type": "execute_result"
    }
   ],
   "source": [
    "kuadrat(4)"
   ]
  },
  {
   "cell_type": "code",
   "execution_count": 49,
   "id": "confirmed-edward",
   "metadata": {},
   "outputs": [
    {
     "data": {
      "text/plain": [
       "36"
      ]
     },
     "execution_count": 49,
     "metadata": {},
     "output_type": "execute_result"
    }
   ],
   "source": [
    "kuadrat(6)"
   ]
  },
  {
   "cell_type": "code",
   "execution_count": 51,
   "id": "spatial-edinburgh",
   "metadata": {},
   "outputs": [
    {
     "data": {
      "text/plain": [
       "81"
      ]
     },
     "execution_count": 51,
     "metadata": {},
     "output_type": "execute_result"
    }
   ],
   "source": [
    "kuadrat(9)"
   ]
  },
  {
   "cell_type": "code",
   "execution_count": 53,
   "id": "northern-defendant",
   "metadata": {},
   "outputs": [],
   "source": [
    "def kuadrat(num):\n",
    "    \"\"\"\n",
    "    Fungsi ini menghasilkan kuadrat dari input\n",
    "    contoh : 3**2 = 9\n",
    "    \n",
    "    \"\"\"\n",
    "    hasil = num**2\n",
    "    return hasil"
   ]
  },
  {
   "cell_type": "code",
   "execution_count": 55,
   "id": "clinical-portal",
   "metadata": {},
   "outputs": [
    {
     "data": {
      "text/plain": [
       "100"
      ]
     },
     "execution_count": 55,
     "metadata": {},
     "output_type": "execute_result"
    }
   ],
   "source": [
    "kuadrat(10)"
   ]
  },
  {
   "cell_type": "markdown",
   "id": "acquired-provision",
   "metadata": {},
   "source": [
    "## Lambda Expression "
   ]
  },
  {
   "cell_type": "code",
   "execution_count": 56,
   "id": "color-vertical",
   "metadata": {},
   "outputs": [
    {
     "data": {
      "text/plain": [
       "<function __main__.<lambda>(num)>"
      ]
     },
     "execution_count": 56,
     "metadata": {},
     "output_type": "execute_result"
    }
   ],
   "source": [
    "lambda num:num**2"
   ]
  },
  {
   "cell_type": "code",
   "execution_count": 57,
   "id": "destroyed-nursing",
   "metadata": {},
   "outputs": [],
   "source": [
    "kuadrat = lambda num:num**2"
   ]
  },
  {
   "cell_type": "code",
   "execution_count": 60,
   "id": "fallen-training",
   "metadata": {},
   "outputs": [
    {
     "data": {
      "text/plain": [
       "25"
      ]
     },
     "execution_count": 60,
     "metadata": {},
     "output_type": "execute_result"
    }
   ],
   "source": [
    "kuadrat(5)"
   ]
  },
  {
   "cell_type": "markdown",
   "id": "recognized-filling",
   "metadata": {},
   "source": [
    "## Map and Filter"
   ]
  },
  {
   "cell_type": "code",
   "execution_count": 61,
   "id": "valuable-cowboy",
   "metadata": {},
   "outputs": [],
   "source": [
    "def kuadrat(num):\n",
    "    \"\"\"\n",
    "    Fungsi ini menghasilkan kuadrat dari input\n",
    "    contoh : 3**2 = 9\n",
    "    \n",
    "    \"\"\"\n",
    "    hasil = num**2\n",
    "    return hasil"
   ]
  },
  {
   "cell_type": "code",
   "execution_count": 62,
   "id": "split-pregnancy",
   "metadata": {},
   "outputs": [],
   "source": [
    "num = [1, 2, 3, 4]"
   ]
  },
  {
   "cell_type": "code",
   "execution_count": 63,
   "id": "dependent-sailing",
   "metadata": {},
   "outputs": [
    {
     "data": {
      "text/plain": [
       "[1, 4, 9, 16]"
      ]
     },
     "execution_count": 63,
     "metadata": {},
     "output_type": "execute_result"
    }
   ],
   "source": [
    "list(map(kuadrat, num))"
   ]
  },
  {
   "cell_type": "code",
   "execution_count": 64,
   "id": "stunning-dakota",
   "metadata": {},
   "outputs": [
    {
     "data": {
      "text/plain": [
       "[1, 4, 9, 16]"
      ]
     },
     "execution_count": 64,
     "metadata": {},
     "output_type": "execute_result"
    }
   ],
   "source": [
    "list(map(lambda num:num**2, num))"
   ]
  },
  {
   "cell_type": "code",
   "execution_count": 65,
   "id": "likely-progress",
   "metadata": {},
   "outputs": [
    {
     "data": {
      "text/plain": [
       "[2, 4, 6, 8]"
      ]
     },
     "execution_count": 65,
     "metadata": {},
     "output_type": "execute_result"
    }
   ],
   "source": [
    "list(map(lambda num:num*2, num))"
   ]
  },
  {
   "cell_type": "code",
   "execution_count": 67,
   "id": "imported-halloween",
   "metadata": {
    "scrolled": true
   },
   "outputs": [
    {
     "data": {
      "text/plain": [
       "[6, 7, 8, 9]"
      ]
     },
     "execution_count": 67,
     "metadata": {},
     "output_type": "execute_result"
    }
   ],
   "source": [
    "list(map(lambda n:n+5, num))"
   ]
  },
  {
   "cell_type": "code",
   "execution_count": 68,
   "id": "blind-springer",
   "metadata": {},
   "outputs": [
    {
     "data": {
      "text/plain": [
       "[2, 4]"
      ]
     },
     "execution_count": 68,
     "metadata": {},
     "output_type": "execute_result"
    }
   ],
   "source": [
    "list(filter(lambda n:n%2==0, num))"
   ]
  }
 ],
 "metadata": {
  "kernelspec": {
   "display_name": "Python 3",
   "language": "python",
   "name": "python3"
  },
  "language_info": {
   "codemirror_mode": {
    "name": "ipython",
    "version": 3
   },
   "file_extension": ".py",
   "mimetype": "text/x-python",
   "name": "python",
   "nbconvert_exporter": "python",
   "pygments_lexer": "ipython3",
   "version": "3.9.2"
  }
 },
 "nbformat": 4,
 "nbformat_minor": 5
}
