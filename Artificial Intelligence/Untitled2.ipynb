{
 "cells": [
  {
   "cell_type": "code",
   "execution_count": 1,
   "id": "finite-order",
   "metadata": {},
   "outputs": [],
   "source": [
    "from queue import PriorityQueue"
   ]
  },
  {
   "cell_type": "code",
   "execution_count": 2,
   "id": "executive-lunch",
   "metadata": {},
   "outputs": [],
   "source": [
    "class State(object):\n",
    "    def __init__(self, value, parent, start=0, goal=0, solver=0):\n",
    "        self.children = []\n",
    "        self.parent = parent\n",
    "        self.value = value\n",
    "        self.dist = 0\n",
    "\n",
    "        if parent:\n",
    "            self.path = parent.path[:]\n",
    "            self.path.append(value)\n",
    "            self.start = parent.start\n",
    "            self.goal = parent.goal\n",
    "            self.solver = parent.solver\n",
    "        else:\n",
    "            self.path = [value]\n",
    "            self.start = start\n",
    "            self.goal = goal\n",
    "            self.solver = solver\n",
    "    def GetDist(self):\n",
    "        pass\n",
    "    def CreateChildren(self):\n",
    "        pass"
   ]
  },
  {
   "cell_type": "code",
   "execution_count": 3,
   "id": "normal-thunder",
   "metadata": {},
   "outputs": [],
   "source": [
    "class State_String(State):\n",
    "    def __init__(self, value, parent, start=0, goal=0):\n",
    "        super(State_String,self).__init__(value, parent, start, goal)\n",
    "        self.dist = self.GetDist()\n",
    "\n",
    "    def GetDist(self):\n",
    "        if self.value == self.goal:\n",
    "            return 0\n",
    "        dist = 0\n",
    "        for i in range(len(self.goal)):\n",
    "            letter = self.goal[i]\n",
    "            dist += abs(i - self.value.index(letter))\n",
    "        return dist\n",
    "\n",
    "    def CreateChildren(self):\n",
    "        if not self.children:\n",
    "            for i in range(len(self.goal)-1):\n",
    "                val = self.value\n",
    "                val = val[:i] + val[i+1] + val[i] + val[i+2:]\n",
    "                child = State_String(val, self)\n",
    "                self.children.append(child)"
   ]
  },
  {
   "cell_type": "code",
   "execution_count": 9,
   "id": "compact-recommendation",
   "metadata": {},
   "outputs": [
    {
     "name": "stdout",
     "output_type": "stream",
     "text": [
      "Starting Search...\n",
      "Goal of aulf is not possible\n"
     ]
    }
   ],
   "source": [
    "from queue import PriorityQueue\n",
    "class State(object):\n",
    "    def __init__(self, value, parent, start=0, goal=0, solver=0):\n",
    "        self.children = []\n",
    "        self.parent = parent\n",
    "        self.value = value\n",
    "        self.dist = 0\n",
    "        if parent:\n",
    "            self.path = parent.path[:]\n",
    "            self.path.append(value)\n",
    "            self.start = parent.start\n",
    "            self.goal = parent.goal\n",
    "            self.solver = parent.solver\n",
    "        else:\n",
    "            self.path = [value]\n",
    "            self.start = start\n",
    "            self.goal = goal\n",
    "            self.solver = solver\n",
    "    def GetDist(self):\n",
    "        pass\n",
    "    def CreateChildren(self):\n",
    "        pass\n",
    "class State_String(State):\n",
    "    def __init__(self, value, parent, start=0, goal=0):\n",
    "        super(State_String,self).__init__(value, parent, start, goal)\n",
    "        self.dist = self.GetDist()\n",
    "    def GetDist(self):\n",
    "        if self.value == self.goal:\n",
    "            return 0\n",
    "        dist = 0\n",
    "        for i in range(len(self.goal)):\n",
    "            letter = self.goal[i]\n",
    "            dist += abs(i - self.value.index(letter))\n",
    "        return dist\n",
    "    def CreateChildren(self):\n",
    "        if not self.children:\n",
    "            for i in range(len(self.goal)-1):\n",
    "                val = self.value\n",
    "                val = val[:i] + val[i+1] + val[i] + val[i+2:]\n",
    "                child = State_String(val, self)\n",
    "                self.children.append(child)\n",
    "class AStar_Solver:\n",
    "    def __init__(self, start, goal):\n",
    "        self.path = []\n",
    "        self.visitedQueue = []\n",
    "        self.priorityQueue = PriorityQueue()\n",
    "        self.start = start\n",
    "        self.goal = goal\n",
    "    def Solve(self):\n",
    "        startState = State_String(self.start,0,self.start,self.goal)\n",
    "        count = 0\n",
    "        self.priorityQueue.put((0, count, startState))\n",
    "        while (not self.path and self.priorityQueue.qsize()):\n",
    "            closestChild = self.priorityQueue.get()[2]\n",
    "            closestChild.CreateChildren()\n",
    "            self.visitedQueue.append(closestChild.value)\n",
    "            for child in closestChild.children:\n",
    "                if child.value not in self.visitedQueue:\n",
    "                    count +=1\n",
    "                    if not child.dist:\n",
    "                        self.path = child.path\n",
    "                    break\n",
    "                self.priorityQueue.put((child.dist, count, child))\n",
    "        if not self.path:\n",
    "            print (\"Goal of \"+ self.goal + \" is not possible\")\n",
    "        return self.path\n"
   ]
  },
  {
   "cell_type": "code",
   "execution_count": 12,
   "id": "casual-examination",
   "metadata": {},
   "outputs": [
    {
     "name": "stdout",
     "output_type": "stream",
     "text": [
      "Starting Search...\n",
      "Goal of aulf is not possible\n"
     ]
    }
   ],
   "source": [
    "if __name__ == \"__main__\":\n",
    "    start1 = \"lwuf\"\n",
    "    goal1 = \"aulf\"\n",
    "    print(\"Starting Search...\")\n",
    "    s = AStar_Solver(start1, goal1)\n",
    "    s.Solve()\n",
    "    for i in range(len(s.path)):\n",
    "        print (\"%d) \" %i + s.path[i])"
   ]
  },
  {
   "cell_type": "code",
   "execution_count": null,
   "id": "medieval-graph",
   "metadata": {},
   "outputs": [],
   "source": []
  }
 ],
 "metadata": {
  "kernelspec": {
   "display_name": "Python 3",
   "language": "python",
   "name": "python3"
  },
  "language_info": {
   "codemirror_mode": {
    "name": "ipython",
    "version": 3
   },
   "file_extension": ".py",
   "mimetype": "text/x-python",
   "name": "python",
   "nbconvert_exporter": "python",
   "pygments_lexer": "ipython3",
   "version": "3.9.2"
  }
 },
 "nbformat": 4,
 "nbformat_minor": 5
}
