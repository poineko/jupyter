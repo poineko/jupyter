{
 "cells": [
  {
   "cell_type": "code",
   "execution_count": 1,
   "id": "arctic-barrier",
   "metadata": {},
   "outputs": [],
   "source": [
    "from ortools.linear_solver import pywraplp"
   ]
  },
  {
   "cell_type": "code",
   "execution_count": 24,
   "id": "drawn-powell",
   "metadata": {
    "scrolled": true
   },
   "outputs": [],
   "source": [
    "jml_baju = [[54],[84],[72],[63],[51],[69],[90],[78],\n",
    "            [68],[66],[81],[87],[57],[53],[72],[82],\n",
    "            [60],[54],[60],[79],[85],[72],[84],[66],\n",
    "            [73],[77],[91],[67],[60],[83],[88],[78],\n",
    "            [46],[54],[66],[51],[62],[60],[60],[54],\n",
    "            [63],[60],[54],[68],[89],[84],[72],[76],\n",
    "            [72],[81],[62],[50],[54],[61],[66],[72],\n",
    "            [60],[78],[58],[63],[69],[60],[76],[84],]\n",
    "\n",
    "krw = len(jml_baju)\n",
    "jns_baju = len(jml_baju[0])"
   ]
  },
  {
   "cell_type": "code",
   "execution_count": 25,
   "id": "fewer-bolivia",
   "metadata": {},
   "outputs": [],
   "source": [
    "solver = pywraplp.Solver.CreateSolver('SCIP')"
   ]
  },
  {
   "cell_type": "code",
   "execution_count": 33,
   "id": "coral-ordinary",
   "metadata": {},
   "outputs": [
    {
     "ename": "AttributeError",
     "evalue": "'Solver' object has no attribute 'strVar'",
     "output_type": "error",
     "traceback": [
      "\u001b[1;31m---------------------------------------------------------------------------\u001b[0m",
      "\u001b[1;31mAttributeError\u001b[0m                            Traceback (most recent call last)",
      "\u001b[1;32m<ipython-input-33-2460babc8714>\u001b[0m in \u001b[0;36m<module>\u001b[1;34m\u001b[0m\n\u001b[0;32m      1\u001b[0m \u001b[0mx\u001b[0m \u001b[1;33m=\u001b[0m \u001b[1;33m{\u001b[0m\u001b[1;33m}\u001b[0m\u001b[1;33m\u001b[0m\u001b[1;33m\u001b[0m\u001b[0m\n\u001b[0;32m      2\u001b[0m \u001b[1;32mfor\u001b[0m \u001b[0mi\u001b[0m \u001b[1;32min\u001b[0m \u001b[0mrange\u001b[0m\u001b[1;33m(\u001b[0m\u001b[0mkrw\u001b[0m\u001b[1;33m)\u001b[0m\u001b[1;33m:\u001b[0m\u001b[1;33m\u001b[0m\u001b[1;33m\u001b[0m\u001b[0m\n\u001b[1;32m----> 3\u001b[1;33m     \u001b[0mx\u001b[0m\u001b[1;33m[\u001b[0m\u001b[0mi\u001b[0m\u001b[1;33m]\u001b[0m \u001b[1;33m=\u001b[0m \u001b[0msolver\u001b[0m\u001b[1;33m.\u001b[0m\u001b[0mstrVar\u001b[0m\u001b[1;33m(\u001b[0m\u001b[1;34m\"A\"\u001b[0m\u001b[1;33m,\u001b[0m\u001b[1;34m''\u001b[0m\u001b[1;33m)\u001b[0m\u001b[1;33m\u001b[0m\u001b[1;33m\u001b[0m\u001b[0m\n\u001b[0m\u001b[0;32m      4\u001b[0m     \u001b[1;32mfor\u001b[0m \u001b[0mj\u001b[0m \u001b[1;32min\u001b[0m \u001b[0mrange\u001b[0m\u001b[1;33m(\u001b[0m\u001b[0mjns_baju\u001b[0m\u001b[1;33m)\u001b[0m\u001b[1;33m:\u001b[0m\u001b[1;33m\u001b[0m\u001b[1;33m\u001b[0m\u001b[0m\n\u001b[0;32m      5\u001b[0m         \u001b[0mx\u001b[0m\u001b[1;33m[\u001b[0m\u001b[0mj\u001b[0m\u001b[1;33m]\u001b[0m \u001b[1;33m=\u001b[0m \u001b[0msolver\u001b[0m\u001b[1;33m.\u001b[0m\u001b[0mnumVar\u001b[0m\u001b[1;33m(\u001b[0m\u001b[1;36m1\u001b[0m\u001b[1;33m,\u001b[0m\u001b[1;34m''\u001b[0m\u001b[1;33m)\u001b[0m\u001b[1;33m\u001b[0m\u001b[1;33m\u001b[0m\u001b[0m\n",
      "\u001b[1;31mAttributeError\u001b[0m: 'Solver' object has no attribute 'strVar'"
     ]
    }
   ],
   "source": [
    "x = {}\n",
    "for i in range(krw):\n",
    "    for j in range(jns_baju)\n",
    "    x[i, j] = solver.IntVar"
   ]
  },
  {
   "cell_type": "code",
   "execution_count": 27,
   "id": "defined-oregon",
   "metadata": {},
   "outputs": [],
   "source": [
    "for i in range(krw):\n",
    "    solver.Add(solver.Sum([x[i, j] for j in range(jns_baju)]) <= 1)"
   ]
  },
  {
   "cell_type": "code",
   "execution_count": 28,
   "id": "oriented-fiber",
   "metadata": {},
   "outputs": [],
   "source": [
    "for j in range(jns_baju):\n",
    "    solver.Add(solver.Sum([x[i, j] for i in range(krw)]) == 1)"
   ]
  },
  {
   "cell_type": "code",
   "execution_count": 29,
   "id": "renewable-phoenix",
   "metadata": {},
   "outputs": [],
   "source": [
    "objective_terms = []\n",
    "for i in range(krw):\n",
    "    for j in range(jns_baju):\n",
    "        objective_terms.append(jml_baju[i][j] * x[i, j])\n",
    "solver.Maximize(solver.Sum(objective_terms))"
   ]
  },
  {
   "cell_type": "code",
   "execution_count": 30,
   "id": "ruled-baptist",
   "metadata": {},
   "outputs": [],
   "source": [
    "status = solver.Solve()"
   ]
  },
  {
   "cell_type": "code",
   "execution_count": 12,
   "id": "perceived-packet",
   "metadata": {},
   "outputs": [
    {
     "name": "stdout",
     "output_type": "stream",
     "text": [
      "Total jumlah baju =  91.0 \n",
      "\n",
      "Seragam 0 di kerjakan oleh Karyawan 0.  sebanyak = 54. stel\n",
      "Seragam 1 di kerjakan oleh Karyawan 0.  sebanyak = 84. stel\n",
      "Seragam 2 di kerjakan oleh Karyawan 0.  sebanyak = 72. stel\n",
      "Seragam 3 di kerjakan oleh Karyawan 0.  sebanyak = 63. stel\n",
      "Seragam 4 di kerjakan oleh Karyawan 0.  sebanyak = 51. stel\n",
      "Seragam 5 di kerjakan oleh Karyawan 0.  sebanyak = 69. stel\n",
      "Seragam 6 di kerjakan oleh Karyawan 0.  sebanyak = 90. stel\n",
      "Seragam 7 di kerjakan oleh Karyawan 0.  sebanyak = 78. stel\n",
      "Seragam 8 di kerjakan oleh Karyawan 0.  sebanyak = 68. stel\n",
      "Seragam 9 di kerjakan oleh Karyawan 0.  sebanyak = 66. stel\n",
      "Seragam 10 di kerjakan oleh Karyawan 0.  sebanyak = 81. stel\n",
      "Seragam 11 di kerjakan oleh Karyawan 0.  sebanyak = 87. stel\n",
      "Seragam 12 di kerjakan oleh Karyawan 0.  sebanyak = 57. stel\n",
      "Seragam 13 di kerjakan oleh Karyawan 0.  sebanyak = 53. stel\n",
      "Seragam 14 di kerjakan oleh Karyawan 0.  sebanyak = 72. stel\n",
      "Seragam 15 di kerjakan oleh Karyawan 0.  sebanyak = 82. stel\n",
      "Seragam 16 di kerjakan oleh Karyawan 0.  sebanyak = 60. stel\n",
      "Seragam 17 di kerjakan oleh Karyawan 0.  sebanyak = 54. stel\n",
      "Seragam 18 di kerjakan oleh Karyawan 0.  sebanyak = 60. stel\n",
      "Seragam 19 di kerjakan oleh Karyawan 0.  sebanyak = 79. stel\n",
      "Seragam 20 di kerjakan oleh Karyawan 0.  sebanyak = 85. stel\n",
      "Seragam 21 di kerjakan oleh Karyawan 0.  sebanyak = 72. stel\n",
      "Seragam 22 di kerjakan oleh Karyawan 0.  sebanyak = 84. stel\n",
      "Seragam 23 di kerjakan oleh Karyawan 0.  sebanyak = 66. stel\n",
      "Seragam 24 di kerjakan oleh Karyawan 0.  sebanyak = 73. stel\n",
      "Seragam 25 di kerjakan oleh Karyawan 0.  sebanyak = 77. stel\n",
      "Seragam 26 di kerjakan oleh Karyawan 0.  sebanyak = 91. stel\n",
      "Seragam 27 di kerjakan oleh Karyawan 0.  sebanyak = 67. stel\n",
      "Seragam 28 di kerjakan oleh Karyawan 0.  sebanyak = 60. stel\n",
      "Seragam 29 di kerjakan oleh Karyawan 0.  sebanyak = 83. stel\n",
      "Seragam 30 di kerjakan oleh Karyawan 0.  sebanyak = 88. stel\n",
      "Seragam 31 di kerjakan oleh Karyawan 0.  sebanyak = 78. stel\n",
      "Seragam 32 di kerjakan oleh Karyawan 0.  sebanyak = 46. stel\n",
      "Seragam 33 di kerjakan oleh Karyawan 0.  sebanyak = 54. stel\n",
      "Seragam 34 di kerjakan oleh Karyawan 0.  sebanyak = 66. stel\n",
      "Seragam 35 di kerjakan oleh Karyawan 0.  sebanyak = 51. stel\n",
      "Seragam 36 di kerjakan oleh Karyawan 0.  sebanyak = 62. stel\n",
      "Seragam 37 di kerjakan oleh Karyawan 0.  sebanyak = 60. stel\n",
      "Seragam 38 di kerjakan oleh Karyawan 0.  sebanyak = 60. stel\n",
      "Seragam 39 di kerjakan oleh Karyawan 0.  sebanyak = 54. stel\n",
      "Seragam 40 di kerjakan oleh Karyawan 0.  sebanyak = 63. stel\n",
      "Seragam 41 di kerjakan oleh Karyawan 0.  sebanyak = 60. stel\n",
      "Seragam 42 di kerjakan oleh Karyawan 0.  sebanyak = 54. stel\n",
      "Seragam 43 di kerjakan oleh Karyawan 0.  sebanyak = 68. stel\n",
      "Seragam 44 di kerjakan oleh Karyawan 0.  sebanyak = 89. stel\n",
      "Seragam 45 di kerjakan oleh Karyawan 0.  sebanyak = 84. stel\n",
      "Seragam 46 di kerjakan oleh Karyawan 0.  sebanyak = 72. stel\n",
      "Seragam 47 di kerjakan oleh Karyawan 0.  sebanyak = 76. stel\n",
      "Seragam 48 di kerjakan oleh Karyawan 0.  sebanyak = 72. stel\n",
      "Seragam 49 di kerjakan oleh Karyawan 0.  sebanyak = 81. stel\n",
      "Seragam 50 di kerjakan oleh Karyawan 0.  sebanyak = 62. stel\n",
      "Seragam 51 di kerjakan oleh Karyawan 0.  sebanyak = 50. stel\n",
      "Seragam 52 di kerjakan oleh Karyawan 0.  sebanyak = 54. stel\n",
      "Seragam 53 di kerjakan oleh Karyawan 0.  sebanyak = 61. stel\n",
      "Seragam 54 di kerjakan oleh Karyawan 0.  sebanyak = 66. stel\n",
      "Seragam 55 di kerjakan oleh Karyawan 0.  sebanyak = 72. stel\n",
      "Seragam 56 di kerjakan oleh Karyawan 0.  sebanyak = 60. stel\n",
      "Seragam 57 di kerjakan oleh Karyawan 0.  sebanyak = 78. stel\n",
      "Seragam 58 di kerjakan oleh Karyawan 0.  sebanyak = 58. stel\n",
      "Seragam 59 di kerjakan oleh Karyawan 0.  sebanyak = 63. stel\n",
      "Seragam 60 di kerjakan oleh Karyawan 0.  sebanyak = 69. stel\n",
      "Seragam 61 di kerjakan oleh Karyawan 0.  sebanyak = 60. stel\n",
      "Seragam 62 di kerjakan oleh Karyawan 0.  sebanyak = 76. stel\n",
      "Seragam 63 di kerjakan oleh Karyawan 0.  sebanyak = 84. stel\n"
     ]
    }
   ],
   "source": [
    "if status == pywraplp.Solver.OPTIMAL or status == pywraplp.Solver.FEASIBLE:\n",
    "    print('Total jumlah baju = ', solver.Objective().Value(), '\\n')\n",
    "    for i in range(krw):\n",
    "        for j in range(jns_baju):\n",
    "            # Test if x[i,j] is 1 (with tolerance for floating point arithmetic).\n",
    "            #if x[i, j].solution_value() > 0.5:\n",
    "            print(f\"Seragam {i} di kerjakan oleh Karyawan {j}.  sebanyak = {jml_baju[i][j]}. stel\")"
   ]
  },
  {
   "cell_type": "code",
   "execution_count": null,
   "id": "oriented-defeat",
   "metadata": {},
   "outputs": [],
   "source": [
    "if status == pywraplp.Solver.OPTIMAL or status == pywraplp.Solver.FEASIBLE:\n",
    "    print('Total jumlah baju = ', solver.Objective().Value(), '\\n')\n",
    "    for i in range(jns_baju):\n",
    "        for j in range(krw):\n",
    "            # Test if x[i,j] is 1 (with tolerance for floating point arithmetic).\n",
    "            if x[i, j].solution_value() > 0.5:\n",
    "                print(f\"Worker {i} assigned to task {j}.  Cost = {jml_baju[i][j]}. Solution_value = {x[i, j].solution_value()}\")"
   ]
  },
  {
   "cell_type": "code",
   "execution_count": null,
   "id": "owned-indian",
   "metadata": {},
   "outputs": [],
   "source": []
  }
 ],
 "metadata": {
  "kernelspec": {
   "display_name": "Python 3",
   "language": "python",
   "name": "python3"
  },
  "language_info": {
   "codemirror_mode": {
    "name": "ipython",
    "version": 3
   },
   "file_extension": ".py",
   "mimetype": "text/x-python",
   "name": "python",
   "nbconvert_exporter": "python",
   "pygments_lexer": "ipython3",
   "version": "3.9.2"
  }
 },
 "nbformat": 4,
 "nbformat_minor": 5
}
