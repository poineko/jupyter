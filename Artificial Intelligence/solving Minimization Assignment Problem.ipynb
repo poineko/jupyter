{
 "cells": [
  {
   "cell_type": "code",
   "execution_count": 1,
   "id": "legal-monkey",
   "metadata": {},
   "outputs": [],
   "source": [
    "import numpy as np"
   ]
  },
  {
   "cell_type": "code",
   "execution_count": 2,
   "id": "central-european",
   "metadata": {},
   "outputs": [],
   "source": [
    "from scipy.optimize import linear_sum_assignment"
   ]
  },
  {
   "cell_type": "code",
   "execution_count": 7,
   "id": "athletic-object",
   "metadata": {},
   "outputs": [],
   "source": [
    "cost_matrix = np.array([[54,84,72,63,51,69,90,78],\n",
    "                        [68,66,81,87,57,53,72,82],\n",
    "                        [60,54,60,79,85,72,84,66],\n",
    "                        [73,77,91,67,60,83,88,78],\n",
    "                        [46,54,66,51,62,60,60,54],\n",
    "                        [63,60,54,68,89,84,72,76],\n",
    "                        [72,81,62,50,54,61,66,72],\n",
    "                        [60,78,58,63,69,60,76,84]])\n"
   ]
  },
  {
   "cell_type": "code",
   "execution_count": 8,
   "id": "american-disco",
   "metadata": {},
   "outputs": [
    {
     "name": "stdout",
     "output_type": "stream",
     "text": [
      "[0 5 1 4 7 2 3 6]\n",
      "total assignment cost is 455\n"
     ]
    }
   ],
   "source": [
    "row_ind, col_ind = linear_sum_assignment(cost_matrix)\n",
    "opt_ass = col_ind\n",
    "tc = cost_matrix[row_ind, col_ind].sum()\n",
    "\n",
    "print(opt_ass)\n",
    "print('total assignment cost is %d' %tc)"
   ]
  }
 ],
 "metadata": {
  "kernelspec": {
   "display_name": "Python 3",
   "language": "python",
   "name": "python3"
  },
  "language_info": {
   "codemirror_mode": {
    "name": "ipython",
    "version": 3
   },
   "file_extension": ".py",
   "mimetype": "text/x-python",
   "name": "python",
   "nbconvert_exporter": "python",
   "pygments_lexer": "ipython3",
   "version": "3.9.2"
  }
 },
 "nbformat": 4,
 "nbformat_minor": 5
}
