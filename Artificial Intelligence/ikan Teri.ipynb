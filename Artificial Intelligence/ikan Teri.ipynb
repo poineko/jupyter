{
 "cells": [
  {
   "cell_type": "code",
   "execution_count": 1,
   "id": "particular-shoot",
   "metadata": {},
   "outputs": [],
   "source": [
    "from ortools.linear_solver import pywraplp"
   ]
  },
  {
   "cell_type": "code",
   "execution_count": 2,
   "id": "assisted-notebook",
   "metadata": {},
   "outputs": [],
   "source": [
    "karyawan ={\"Munawaroh\",\"Inayatih\",\"Fauziyah\",\"Mar’atul\"}\n",
    "pekerjaan ={\"A\",\"B\",\"C\",\"D\"}\n",
    "\n",
    "nama = range(len(karyawan))\n",
    "tugas = range(len(pekerjaan))"
   ]
  },
  {
   "cell_type": "code",
   "execution_count": 3,
   "id": "durable-tonight",
   "metadata": {},
   "outputs": [],
   "source": [
    "kg = [[12, 14, 13, 10, 6.72],\n",
    "      [13, 10, 11, 12, 6,23],\n",
    "      [10, 14, 15, 15, 7.07],\n",
    "      [13, 11, 15, 11, 6.3]]"
   ]
  },
  {
   "cell_type": "code",
   "execution_count": 4,
   "id": "aboriginal-pickup",
   "metadata": {},
   "outputs": [],
   "source": [
    "solver = pywraplp.Solver.CreateSolver('SCIP')"
   ]
  },
  {
   "cell_type": "code",
   "execution_count": 48,
   "id": "normal-diving",
   "metadata": {},
   "outputs": [],
   "source": [
    "x = {}\n",
    "for i in nama:\n",
    "    for j in tugas:\n",
    "        x[i, j] = solver.NumVar(0,1, '')"
   ]
  },
  {
   "cell_type": "code",
   "execution_count": 49,
   "id": "unsigned-orange",
   "metadata": {},
   "outputs": [],
   "source": [
    "for i in nama:\n",
    "    solver.Add(solver.Sum([x[i, j] for j in tugas]) <= 1)"
   ]
  },
  {
   "cell_type": "code",
   "execution_count": 50,
   "id": "jewish-saturday",
   "metadata": {},
   "outputs": [],
   "source": [
    "for j in tugas:\n",
    "    solver.Add(solver.Sum([x[i, j] for i in nama]) == 1)"
   ]
  },
  {
   "cell_type": "code",
   "execution_count": 51,
   "id": "simple-comedy",
   "metadata": {},
   "outputs": [],
   "source": [
    "objective_terms = []\n",
    "for i in nama:\n",
    "    for j in tugas:\n",
    "        objective_terms.append(kg[i][j] * x[i, j])\n",
    "solver.Maximize(solver.Sum(objective_terms))"
   ]
  },
  {
   "cell_type": "code",
   "execution_count": 52,
   "id": "potential-plastic",
   "metadata": {},
   "outputs": [],
   "source": [
    "status = solver.Solve()"
   ]
  },
  {
   "cell_type": "code",
   "execution_count": 55,
   "id": "expensive-calendar",
   "metadata": {},
   "outputs": [
    {
     "name": "stdout",
     "output_type": "stream",
     "text": [
      "Total Hari/Kg =  57.0 \n",
      "\n",
      "Karyawan 0 mengerjakan tugas 1  dengan 14 kg perhari \n",
      "Karyawan 1 mengerjakan tugas 0  dengan 13 kg perhari \n",
      "Karyawan 2 mengerjakan tugas 3  dengan 15 kg perhari \n",
      "Karyawan 3 mengerjakan tugas 2  dengan 15 kg perhari \n"
     ]
    }
   ],
   "source": [
    "if status == pywraplp.Solver.OPTIMAL or status == pywraplp.Solver.FEASIBLE:\n",
    "    print('Total Hari/Kg = ', solver.Objective().Value(), '\\n')\n",
    "    for i in nama:\n",
    "        for j in tugas:\n",
    "            if x[i, j].solution_value():\n",
    "                print(f\"Karyawan {i} mengerjakan tugas {j}  dengan {kg[i][j]} kg perhari \")"
   ]
  },
  {
   "cell_type": "code",
   "execution_count": null,
   "id": "gorgeous-score",
   "metadata": {},
   "outputs": [],
   "source": []
  }
 ],
 "metadata": {
  "kernelspec": {
   "display_name": "Python 3",
   "language": "python",
   "name": "python3"
  },
  "language_info": {
   "codemirror_mode": {
    "name": "ipython",
    "version": 3
   },
   "file_extension": ".py",
   "mimetype": "text/x-python",
   "name": "python",
   "nbconvert_exporter": "python",
   "pygments_lexer": "ipython3",
   "version": "3.9.2"
  }
 },
 "nbformat": 4,
 "nbformat_minor": 5
}
