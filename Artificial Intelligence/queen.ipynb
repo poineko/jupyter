{
 "cells": [
  {
   "cell_type": "code",
   "execution_count": 1,
   "id": "occasional-postcard",
   "metadata": {},
   "outputs": [
    {
     "name": "stdout",
     "output_type": "stream",
     "text": [
      "importing Jupyter notebook from csp.ipynb\n"
     ]
    }
   ],
   "source": [
    "import import_ipynb\n",
    "from csp import Constraint, CSP\n",
    "from typing import Dict, List, Optional\n",
    "\n",
    "class QueenConstraint(Constraint[int, int]):\n",
    "    def __init__(self, columns: List[int]) -> None:\n",
    "        self.columns: List[int] = columns\n",
    "    \n",
    "    def satisfied(self, assignment: Dict[int, int]) -> bool:\n",
    "        # q1c = queen 1 column, q1r = queen 1 row\n",
    "        for q1c, q1r in assignment.items():\n",
    "            #q2c = queen 2 column\n",
    "            for q2c in range(q1c + 1, len(self.columns) + 1):\n",
    "                if q2c in assignment:\n",
    "                    q2r: int = assignment[q2c] # q2r = queen 2 row\n",
    "                    if q1r == q2r: # same row?\n",
    "                        return False\n",
    "                    if abs(q1r - q2r) == abs(q1c - q2c): # same diagonal?\n",
    "                        return False\n",
    "        return True # no conflict"
   ]
  },
  {
   "cell_type": "code",
   "execution_count": 2,
   "id": "tracked-exploration",
   "metadata": {},
   "outputs": [
    {
     "ename": "AttributeError",
     "evalue": "'QueenConstraint' object has no attribute 'variables'",
     "output_type": "error",
     "traceback": [
      "\u001b[1;31m---------------------------------------------------------------------------\u001b[0m",
      "\u001b[1;31mAttributeError\u001b[0m                            Traceback (most recent call last)",
      "\u001b[1;32m<ipython-input-2-6839da6f7a25>\u001b[0m in \u001b[0;36m<module>\u001b[1;34m\u001b[0m\n\u001b[0;32m      5\u001b[0m         \u001b[0mrows\u001b[0m\u001b[1;33m[\u001b[0m\u001b[0mcolumn\u001b[0m\u001b[1;33m]\u001b[0m \u001b[1;33m=\u001b[0m \u001b[1;33m[\u001b[0m\u001b[1;36m1\u001b[0m\u001b[1;33m,\u001b[0m \u001b[1;36m2\u001b[0m\u001b[1;33m,\u001b[0m \u001b[1;36m3\u001b[0m\u001b[1;33m,\u001b[0m \u001b[1;36m4\u001b[0m\u001b[1;33m]\u001b[0m\u001b[1;33m\u001b[0m\u001b[1;33m\u001b[0m\u001b[0m\n\u001b[0;32m      6\u001b[0m     \u001b[0mcsp\u001b[0m\u001b[1;33m:\u001b[0m \u001b[0mCSP\u001b[0m\u001b[1;33m[\u001b[0m\u001b[0mint\u001b[0m\u001b[1;33m,\u001b[0m \u001b[0mint\u001b[0m\u001b[1;33m]\u001b[0m \u001b[1;33m=\u001b[0m \u001b[0mCSP\u001b[0m\u001b[1;33m(\u001b[0m\u001b[0mcolumns\u001b[0m\u001b[1;33m,\u001b[0m \u001b[0mrows\u001b[0m\u001b[1;33m)\u001b[0m\u001b[1;33m\u001b[0m\u001b[1;33m\u001b[0m\u001b[0m\n\u001b[1;32m----> 7\u001b[1;33m     \u001b[0mcsp\u001b[0m\u001b[1;33m.\u001b[0m\u001b[0madd_constraint\u001b[0m\u001b[1;33m(\u001b[0m\u001b[0mQueenConstraint\u001b[0m\u001b[1;33m(\u001b[0m\u001b[0mcolumns\u001b[0m\u001b[1;33m)\u001b[0m\u001b[1;33m)\u001b[0m\u001b[1;33m\u001b[0m\u001b[1;33m\u001b[0m\u001b[0m\n\u001b[0m",
      "\u001b[1;32mD:\\jupyter\\Artificial Intelligence\\csp.ipynb\u001b[0m in \u001b[0;36madd_constraint\u001b[1;34m(self, constraint)\u001b[0m\n",
      "\u001b[1;31mAttributeError\u001b[0m: 'QueenConstraint' object has no attribute 'variables'"
     ]
    }
   ],
   "source": [
    "if __name__ == \"__main__\":\n",
    "    columns: List[int] = [1, 2, 3, 4]\n",
    "    rows: Dict[int, List[int]] = {}\n",
    "    for column in columns:\n",
    "        rows[column] = [1, 2, 3, 4]\n",
    "    csp: CSP[int, int] = CSP(columns, rows)\n",
    "    csp.add_constraint(QueenConstraint(columns))"
   ]
  },
  {
   "cell_type": "code",
   "execution_count": 3,
   "id": "sunrise-karma",
   "metadata": {},
   "outputs": [
    {
     "ename": "AttributeError",
     "evalue": "'CSP' object has no attribute 'backtacking_search'",
     "output_type": "error",
     "traceback": [
      "\u001b[1;31m---------------------------------------------------------------------------\u001b[0m",
      "\u001b[1;31mAttributeError\u001b[0m                            Traceback (most recent call last)",
      "\u001b[1;32m<ipython-input-3-a3a36010afd3>\u001b[0m in \u001b[0;36m<module>\u001b[1;34m\u001b[0m\n\u001b[1;32m----> 1\u001b[1;33m \u001b[0msolution\u001b[0m\u001b[1;33m:\u001b[0m \u001b[0mOptional\u001b[0m\u001b[1;33m[\u001b[0m\u001b[0mDict\u001b[0m\u001b[1;33m[\u001b[0m\u001b[0mstr\u001b[0m\u001b[1;33m,\u001b[0m \u001b[0mstr\u001b[0m\u001b[1;33m]\u001b[0m\u001b[1;33m]\u001b[0m \u001b[1;33m=\u001b[0m \u001b[0mcsp\u001b[0m\u001b[1;33m.\u001b[0m\u001b[0mbacktacking_search\u001b[0m\u001b[1;33m(\u001b[0m\u001b[1;33m)\u001b[0m\u001b[1;33m\u001b[0m\u001b[1;33m\u001b[0m\u001b[0m\n\u001b[0m\u001b[0;32m      2\u001b[0m \u001b[1;32mif\u001b[0m \u001b[0msolution\u001b[0m \u001b[1;32mis\u001b[0m \u001b[1;32mNone\u001b[0m\u001b[1;33m:\u001b[0m\u001b[1;33m\u001b[0m\u001b[1;33m\u001b[0m\u001b[0m\n\u001b[0;32m      3\u001b[0m     \u001b[0mprint\u001b[0m\u001b[1;33m(\u001b[0m\u001b[1;34m\"No solution found!\"\u001b[0m\u001b[1;33m)\u001b[0m\u001b[1;33m\u001b[0m\u001b[1;33m\u001b[0m\u001b[0m\n\u001b[0;32m      4\u001b[0m \u001b[1;32melse\u001b[0m\u001b[1;33m:\u001b[0m\u001b[1;33m\u001b[0m\u001b[1;33m\u001b[0m\u001b[0m\n\u001b[0;32m      5\u001b[0m     \u001b[0mprint\u001b[0m\u001b[1;33m(\u001b[0m\u001b[0msolution\u001b[0m\u001b[1;33m)\u001b[0m\u001b[1;33m\u001b[0m\u001b[1;33m\u001b[0m\u001b[0m\n",
      "\u001b[1;31mAttributeError\u001b[0m: 'CSP' object has no attribute 'backtacking_search'"
     ]
    }
   ],
   "source": [
    "    solution: Optional[Dict[str, str]] = csp.backtacking_search()\n",
    "    if solution is None:\n",
    "        print(\"No solution found!\")\n",
    "    else:\n",
    "        print(solution)"
   ]
  }
 ],
 "metadata": {
  "kernelspec": {
   "display_name": "Python 3",
   "language": "python",
   "name": "python3"
  },
  "language_info": {
   "codemirror_mode": {
    "name": "ipython",
    "version": 3
   },
   "file_extension": ".py",
   "mimetype": "text/x-python",
   "name": "python",
   "nbconvert_exporter": "python",
   "pygments_lexer": "ipython3",
   "version": "3.9.2"
  }
 },
 "nbformat": 4,
 "nbformat_minor": 5
}
