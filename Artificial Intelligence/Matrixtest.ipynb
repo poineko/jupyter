{
 "cells": [
  {
   "cell_type": "code",
   "execution_count": 4,
   "id": "pleased-drama",
   "metadata": {},
   "outputs": [
    {
     "name": "stdout",
     "output_type": "stream",
     "text": [
      "matrix rows: 3\n",
      "matrix columns: 4\n",
      "Return row 1 of matrix: [1, 2, 3]\n",
      "Return column 4 of matrix: [4, 8, 6]\n"
     ]
    }
   ],
   "source": [
    "import numpy as np\n",
    "from math import floor, ceil, sqrt\n",
    "class Matrix:\n",
    "\n",
    "    def __init__(self, matrix_string, m = 0, n = 0):\n",
    "        self.matrix_string = matrix_string\n",
    "        self.dex()\n",
    "        #intialize m (row) and n (column) as dimensions of matrix m x n, \n",
    "        self.m = m\n",
    "        self.n = n\n",
    "    \n",
    "    #define function to caltulate the dimentions of matrix\n",
    "    def dex(self):\n",
    "\n",
    "        #convert matrix_string into a list by stripping of whitespaces and \n",
    "        # newlines, then store length of string in string_length variable\n",
    "        string_length = len(self.matrix_string.split())\n",
    "\n",
    "        #calculate dimensions of matrix using ceil, sqrt and floor methods\n",
    "        self.n = ceil(sqrt(string_length))\n",
    "        self.m = floor(sqrt(string_length))\n",
    "        if self.m * self.n < string_length:\n",
    "            self.m = self.n\n",
    "\n",
    "        return self.m, self.n\n",
    "            \n",
    "    #method to return indexed row from matrix\n",
    "    def row(self, index):\n",
    "        #list index\n",
    "        index -= 1\n",
    "\n",
    "        #call dex method to return m and n to this method scope\n",
    "        self.dex()\n",
    "        row_list = self.matrix_string.split()\n",
    "\n",
    "        #create a nexted list of rows\n",
    "        row_list = list(map(list, zip(*[map(int, row_list)] * self.m)))\n",
    "\n",
    "        return row_list[index]\n",
    "        \n",
    "    #method to return indexed column from matrix\n",
    "    def column(self, index):\n",
    "        #list index\n",
    "        index -= 1\n",
    "        string_list = self.matrix_string.split()\n",
    "\n",
    "        #convert list into m x n matrix using numpy\n",
    "        matrix = np.array(string_list).reshape(self.dex())\n",
    "\n",
    "        #convert matrix into a flat matrix along the column\n",
    "        # and convert back to list\n",
    "        column_list = list(matrix.flatten(order = \"F\"))\n",
    "\n",
    "        #create nested list of columns\n",
    "        column_list = list(map(list, zip( *[map(int, column_list)] * self.m)))\n",
    "\n",
    "        return column_list[index]\n",
    "\n",
    "\n",
    "#example 3 x 4 matrix string\n",
    "matrix_string = \"1 2 3 4\\n5 6 7 8\\n9 8 7 6\"\n",
    "\n",
    "T = Matrix(matrix_string)\n",
    "R = T.row(1)\n",
    "C = T.column(4)\n",
    "print(\"matrix rows: {}\" .format(T.m)) \n",
    "print(\"matrix columns: {}\" .format(T.n)) \n",
    "print(\"Return row 1 of matrix: {}\" .format(R))\n",
    "print(\"Return column 4 of matrix: {}\" .format(C))"
   ]
  },
  {
   "cell_type": "code",
   "execution_count": null,
   "id": "normal-asthma",
   "metadata": {},
   "outputs": [],
   "source": []
  }
 ],
 "metadata": {
  "kernelspec": {
   "display_name": "Python 3",
   "language": "python",
   "name": "python3"
  },
  "language_info": {
   "codemirror_mode": {
    "name": "ipython",
    "version": 3
   },
   "file_extension": ".py",
   "mimetype": "text/x-python",
   "name": "python",
   "nbconvert_exporter": "python",
   "pygments_lexer": "ipython3",
   "version": "3.9.2"
  }
 },
 "nbformat": 4,
 "nbformat_minor": 5
}
