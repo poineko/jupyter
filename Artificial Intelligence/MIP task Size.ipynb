{
 "cells": [
  {
   "cell_type": "code",
   "execution_count": 23,
   "id": "outer-packing",
   "metadata": {},
   "outputs": [
    {
     "name": "stdout",
     "output_type": "stream",
     "text": [
      "Minimum cost =  326.0\n",
      "\n",
      "Pekerja 0  di tugaskan ke tugas 6   biaya =  12 $\n",
      "Pekerja 1  di tugaskan ke tugas 0   biaya =  35 $\n",
      "Pekerja 1  di tugaskan ke tugas 2   biaya =  55 $\n",
      "Pekerja 4  di tugaskan ke tugas 4   biaya =  59 $\n",
      "Pekerja 5  di tugaskan ke tugas 5   biaya =  31 $\n",
      "Pekerja 5  di tugaskan ke tugas 7   biaya =  34 $\n",
      "Pekerja 6  di tugaskan ke tugas 1   biaya =  51 $\n",
      "Pekerja 8  di tugaskan ke tugas 3   biaya =  49 $\n",
      "\n",
      "Time =  0.042 seconds\n"
     ]
    }
   ],
   "source": [
    "from __future__ import print_function\n",
    "import time\n",
    "from ortools.linear_solver import pywraplp\n",
    "\n",
    "def main():\n",
    "  solver = pywraplp.Solver('SolveAssignmentProblem',\n",
    "                           pywraplp.Solver.CBC_MIXED_INTEGER_PROGRAMMING)\n",
    "\n",
    "  start = time.time()\n",
    "  cost = [[90, 76, 75, 70, 50, 74, 12, 68],\n",
    "          [35, 85, 55, 65, 48, 101, 70, 83],\n",
    "          [125, 95, 90, 105, 59, 120, 36, 73],\n",
    "          [45, 110, 95, 115, 104, 83, 37, 71],\n",
    "          [60, 105, 80, 75, 59, 62, 93, 88],\n",
    "          [45, 65, 110, 95, 47, 31, 81, 34],\n",
    "          [38, 51, 107, 41, 69, 99, 115, 48],\n",
    "          [47, 85, 57, 71, 92, 77, 109, 36],\n",
    "          [39, 63, 97, 49, 118, 56, 92, 61],\n",
    "          [47, 101, 71, 60, 88, 109, 52, 90]]\n",
    "\n",
    "  task_sizes = [10, 7, 3, 12, 15, 4, 11, 5]\n",
    "\n",
    "  # Maximum total of task sizes for any worker\n",
    "  total_size_max = 15\n",
    "  num_workers = len(cost)\n",
    "  num_tasks = len(cost[1])\n",
    "  # Variables\n",
    "  x = {}\n",
    "\n",
    "  for i in range(num_workers):\n",
    "    for j in range(num_tasks):\n",
    "      x[i, j] = solver.IntVar(0, 1, 'x[%i,%i]' % (i, j))\n",
    "\n",
    "  # Constraints\n",
    "  # The total size of the tasks each worker takes on is at most total_size_max.\n",
    "\n",
    "  for i in range(num_workers):\n",
    "    solver.Add(solver.Sum([task_sizes[j] * x[i, j] for j in range(num_tasks)]) <= total_size_max)\n",
    "\n",
    "  # Each task is assigned to at least one worker.\n",
    "\n",
    "  for j in range(num_tasks):\n",
    "    solver.Add(solver.Sum([x[i, j] for i in range(num_workers)]) >= 1)\n",
    "\n",
    "  solver.Minimize(solver.Sum([cost[i][j] * x[i,j] for i in range(num_workers)\n",
    "                                                  for j in range(num_tasks)]))\n",
    "  sol = solver.Solve()\n",
    "\n",
    "  print('Minimum cost = ', solver.Objective().Value())\n",
    "  print()\n",
    "  for i in range(num_workers):\n",
    "    for j in range(num_tasks):\n",
    "      if x[i, j].solution_value() > 0:\n",
    "        print('Pekerja', i,' di tugaskan ke tugas', j, '  biaya = ', cost[i][j],'$')\n",
    "  print()\n",
    "  end = time.time()\n",
    "  print(\"Time = \", round(end - start, 4), \"seconds\")\n",
    "if __name__ == '__main__':\n",
    "  main()"
   ]
  },
  {
   "cell_type": "code",
   "execution_count": null,
   "id": "nonprofit-employer",
   "metadata": {},
   "outputs": [],
   "source": []
  }
 ],
 "metadata": {
  "kernelspec": {
   "display_name": "Python 3",
   "language": "python",
   "name": "python3"
  },
  "language_info": {
   "codemirror_mode": {
    "name": "ipython",
    "version": 3
   },
   "file_extension": ".py",
   "mimetype": "text/x-python",
   "name": "python",
   "nbconvert_exporter": "python",
   "pygments_lexer": "ipython3",
   "version": "3.9.2"
  }
 },
 "nbformat": 4,
 "nbformat_minor": 5
}
