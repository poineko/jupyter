{
 "cells": [
  {
   "cell_type": "markdown",
   "id": "theoretical-hayes",
   "metadata": {},
   "source": [
    "Nama  : Aurellio Agustian Hendrianto\n",
    "\n",
    "Npm   : 193510479\n",
    "\n",
    "kelas : IV E"
   ]
  },
  {
   "cell_type": "code",
   "execution_count": 1,
   "id": "personal-textbook",
   "metadata": {},
   "outputs": [],
   "source": [
    "from ortools.linear_solver import pywraplp"
   ]
  },
  {
   "cell_type": "code",
   "execution_count": 2,
   "id": "upset-tournament",
   "metadata": {},
   "outputs": [],
   "source": [
    "costs = [\n",
    "    [90, 80, 75, 70],\n",
    "    [35, 85, 55, 65],\n",
    "    [125, 95, 90, 95],\n",
    "    [45, 110, 95, 115],\n",
    "    [50, 100, 90, 100],\n",
    "]\n",
    "num_workers = len(costs)\n",
    "num_tasks = len(costs[0])"
   ]
  },
  {
   "cell_type": "code",
   "execution_count": 3,
   "id": "mental-consolidation",
   "metadata": {},
   "outputs": [],
   "source": [
    "# Create the mip solver with the SCIP backend.\n",
    "solver = pywraplp.Solver.CreateSolver('SCIP')"
   ]
  },
  {
   "cell_type": "markdown",
   "id": "cleared-calculation",
   "metadata": {},
   "source": [
    "x[i, j] is a dictionary of 0 - 1 variables, which will be 1 if worker i is assigned to task j"
   ]
  },
  {
   "cell_type": "code",
   "execution_count": 4,
   "id": "duplicate-delicious",
   "metadata": {},
   "outputs": [],
   "source": [
    "# x[i, j] is an array of 0-1 variables, which will be 1\n",
    "# if worker i is assigned to task j.\n",
    "x = {}\n",
    "for i in range(num_workers):\n",
    "    for j in range(num_tasks):\n",
    "        x[i, j] = solver.IntVar(0, 1, '')"
   ]
  },
  {
   "cell_type": "code",
   "execution_count": 5,
   "id": "animal-difference",
   "metadata": {},
   "outputs": [],
   "source": [
    "# Each worker is assigned to at most 1 task.\n",
    "for i in range(num_workers):\n",
    "    solver.Add(solver.Sum([x[i, j] for j in range(num_tasks)]) <= 1)"
   ]
  },
  {
   "cell_type": "markdown",
   "id": "resident-decision",
   "metadata": {},
   "source": [
    "x[0, 0] + x[0, 1] + x[0, 2] + x[0, 3] = 0 | 1"
   ]
  },
  {
   "cell_type": "code",
   "execution_count": 6,
   "id": "exposed-outline",
   "metadata": {},
   "outputs": [],
   "source": [
    "# Each task is assigned to exactly one worker.\n",
    "for j in range(num_tasks):\n",
    "    solver.Add(solver.Sum([x[i, j] for i in range(num_workers)]) == 1)"
   ]
  },
  {
   "cell_type": "markdown",
   "id": "strong-narrative",
   "metadata": {},
   "source": [
    "x[0, 2] + x[1, 2] + x[2, 2] + x[3, 2] + x[4, 2] = 1"
   ]
  },
  {
   "cell_type": "code",
   "execution_count": 7,
   "id": "behind-husband",
   "metadata": {},
   "outputs": [],
   "source": [
    "objective_terms = []\n",
    "for i in range(num_workers):\n",
    "    for j in range(num_tasks):\n",
    "        objective_terms.append(costs[i][j] * x[i, j])\n",
    "solver.Minimize(solver.Sum(objective_terms))"
   ]
  },
  {
   "cell_type": "code",
   "execution_count": 8,
   "id": "editorial-edmonton",
   "metadata": {},
   "outputs": [],
   "source": [
    "status = solver.Solve()"
   ]
  },
  {
   "cell_type": "code",
   "execution_count": 9,
   "id": "baking-lawrence",
   "metadata": {},
   "outputs": [
    {
     "name": "stdout",
     "output_type": "stream",
     "text": [
      "Total cost =  265.0 \n",
      "\n",
      "Worker 0 assigned to task 3.  Cost = 70. Solution_value = 1.0\n",
      "Worker 1 assigned to task 2.  Cost = 55. Solution_value = 1.0\n",
      "Worker 2 assigned to task 1.  Cost = 95. Solution_value = 1.0\n",
      "Worker 3 assigned to task 0.  Cost = 45. Solution_value = 1.0\n"
     ]
    }
   ],
   "source": [
    "if status == pywraplp.Solver.OPTIMAL or status == pywraplp.Solver.FEASIBLE:\n",
    "    print('Total cost = ', solver.Objective().Value(), '\\n')\n",
    "    for i in range(num_workers):\n",
    "        for j in range(num_tasks):\n",
    "            # Test if x[i,j] is 1 (with tolerance for floating point arithmetic).\n",
    "            if x[i, j].solution_value() > 0.5:\n",
    "                print(f\"Worker {i} assigned to task {j}.  Cost = {costs[i][j]}. Solution_value = {x[i, j].solution_value()}\")"
   ]
  }
 ],
 "metadata": {
  "kernelspec": {
   "display_name": "Python 3",
   "language": "python",
   "name": "python3"
  },
  "language_info": {
   "codemirror_mode": {
    "name": "ipython",
    "version": 3
   },
   "file_extension": ".py",
   "mimetype": "text/x-python",
   "name": "python",
   "nbconvert_exporter": "python",
   "pygments_lexer": "ipython3",
   "version": "3.9.2"
  }
 },
 "nbformat": 4,
 "nbformat_minor": 5
}
