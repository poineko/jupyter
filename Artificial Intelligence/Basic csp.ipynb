{
 "cells": [
  {
   "cell_type": "code",
   "execution_count": 2,
   "id": "considerable-meter",
   "metadata": {},
   "outputs": [
    {
     "name": "stdout",
     "output_type": "stream",
     "text": [
      "importing Jupyter notebook from csp2.ipynb\n",
      "[{'c': 1, 'b': 2, 'a': 1}, {'c': 2, 'b': 1, 'a': 2}]\n"
     ]
    }
   ],
   "source": [
    "import import_ipynb\n",
    "from csp2 import *\n",
    "\n",
    "p = Problem()\n",
    "p.add_variable(Variable(\"a\", [1, 2]))\n",
    "p.add_variable(Variable(\"b\", [1, 2]))\n",
    "p.add_variable(Variable(\"c\", [1, 2]))\n",
    "p.add_constraint(AllDifferentConstraint([\"a\", \"b\"]))\n",
    "p.add_constraint(AllDifferentConstraint([\"c\", \"b\"]))\n",
    "\n",
    "print(p.get_solutions())"
   ]
  },
  {
   "cell_type": "code",
   "execution_count": null,
   "id": "parliamentary-satin",
   "metadata": {},
   "outputs": [],
   "source": []
  }
 ],
 "metadata": {
  "kernelspec": {
   "display_name": "Python 3",
   "language": "python",
   "name": "python3"
  },
  "language_info": {
   "codemirror_mode": {
    "name": "ipython",
    "version": 3
   },
   "file_extension": ".py",
   "mimetype": "text/x-python",
   "name": "python",
   "nbconvert_exporter": "python",
   "pygments_lexer": "ipython3",
   "version": "3.9.2"
  }
 },
 "nbformat": 4,
 "nbformat_minor": 5
}
