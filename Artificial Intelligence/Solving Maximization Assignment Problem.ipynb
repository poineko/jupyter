{
 "cells": [
  {
   "cell_type": "code",
   "execution_count": 1,
   "id": "defined-crawford",
   "metadata": {
    "scrolled": true
   },
   "outputs": [],
   "source": [
    "import numpy as np\n",
    "from scipy.optimize import linear_sum_assignment"
   ]
  },
  {
   "cell_type": "code",
   "execution_count": 2,
   "id": "extended-nirvana",
   "metadata": {},
   "outputs": [
    {
     "name": "stdout",
     "output_type": "stream",
     "text": [
      "[[6, 4, 0, 5, 4], [3, 6, 6, 5, 6], [5, 4, 1, 4, 8], [1, 7, 3, 9, 7]]\n"
     ]
    }
   ],
   "source": [
    "matrix = np.array( [[5, 7, 11, 6, 7],\n",
    "                    [8, 5, 5, 6, 5],\n",
    "                    [6, 7, 10, 7, 3],\n",
    "                    [10, 4, 8, 2, 4],])\n",
    "\n",
    "cost_matrix = []\n",
    "\n",
    "for row in matrix:\n",
    "    cost_row = []\n",
    "    for col in row:\n",
    "        cost_row += [np.amax(matrix) - col]\n",
    "    cost_matrix += [cost_row]\n",
    "\n",
    "print(cost_matrix)"
   ]
  },
  {
   "cell_type": "code",
   "execution_count": 3,
   "id": "julian-advocate",
   "metadata": {},
   "outputs": [
    {
     "name": "stdout",
     "output_type": "stream",
     "text": [
      "[[6 4 0 5 4]\n",
      " [3 6 6 5 6]\n",
      " [5 4 1 4 8]\n",
      " [1 7 3 9 7]\n",
      " [0 0 0 0 0]]\n"
     ]
    }
   ],
   "source": [
    "drow = np.zeros((5,), dtype = int)\n",
    "ncost_matrix = np.vstack((cost_matrix, drow))\n",
    "\n",
    "print(ncost_matrix)"
   ]
  },
  {
   "cell_type": "code",
   "execution_count": 4,
   "id": "ancient-marijuana",
   "metadata": {},
   "outputs": [
    {
     "name": "stdout",
     "output_type": "stream",
     "text": [
      "[2 3 1 0 4]\n",
      "the total prpfit is 34\n"
     ]
    }
   ],
   "source": [
    "row_ind, col_ind = linear_sum_assignment(ncost_matrix)\n",
    "opt_ass = col_ind\n",
    "tp = np.vstack((matrix, drow))[row_ind, col_ind].sum()\n",
    "print(opt_ass)\n",
    "print('the total prpfit is %d' %tp)"
   ]
  },
  {
   "cell_type": "code",
   "execution_count": null,
   "id": "assured-uncle",
   "metadata": {},
   "outputs": [],
   "source": []
  }
 ],
 "metadata": {
  "kernelspec": {
   "display_name": "Python 3",
   "language": "python",
   "name": "python3"
  },
  "language_info": {
   "codemirror_mode": {
    "name": "ipython",
    "version": 3
   },
   "file_extension": ".py",
   "mimetype": "text/x-python",
   "name": "python",
   "nbconvert_exporter": "python",
   "pygments_lexer": "ipython3",
   "version": "3.9.2"
  }
 },
 "nbformat": 4,
 "nbformat_minor": 5
}
