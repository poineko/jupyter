{
 "cells": [
  {
   "cell_type": "code",
   "execution_count": 1,
   "id": "nervous-license",
   "metadata": {},
   "outputs": [
    {
     "name": "stdout",
     "output_type": "stream",
     "text": [
      "Total cost = 265.0\n",
      "\n",
      "Worker 0 assigned to task 3 Cost = 70\n",
      "Worker 1 assigned to task 2 Cost = 55\n",
      "Worker 2 assigned to task 1 Cost = 95\n",
      "Worker 3 assigned to task 0 Cost = 45\n"
     ]
    }
   ],
   "source": [
    "from ortools.sat.python import cp_model\n",
    "\n",
    "\n",
    "def main():\n",
    "    # Data\n",
    "    costs = [\n",
    "        [90, 80, 75, 70],\n",
    "        [35, 85, 55, 65],\n",
    "        [125, 95, 90, 95],\n",
    "        [45, 110, 95, 115],\n",
    "        [50, 100, 90, 100],\n",
    "    ]\n",
    "    num_workers = len(costs)\n",
    "    num_tasks = len(costs[0])\n",
    "\n",
    "    # Model\n",
    "    model = cp_model.CpModel()\n",
    "\n",
    "    # Variables\n",
    "    x = []\n",
    "    for i in range(num_workers):\n",
    "        t = []\n",
    "        for j in range(num_tasks):\n",
    "            t.append(model.NewBoolVar(f'x[{i},{j}]'))\n",
    "        x.append(t)\n",
    "\n",
    "    # Constraints\n",
    "    # Each worker is assigned to at most one task.\n",
    "    for i in range(num_workers):\n",
    "        model.Add(sum(x[i][j] for j in range(num_tasks)) <= 1)\n",
    "\n",
    "    # Each task is assigned to exactly one worker.\n",
    "    for j in range(num_tasks):\n",
    "        model.Add(sum(x[i][j] for i in range(num_workers)) == 1)\n",
    "\n",
    "    # Objective\n",
    "    objective_terms = []\n",
    "    for i in range(num_workers):\n",
    "        for j in range(num_tasks):\n",
    "            objective_terms.append(costs[i][j] * x[i][j])\n",
    "    model.Minimize(sum(objective_terms))\n",
    "\n",
    "    # Solve\n",
    "    solver = cp_model.CpSolver()\n",
    "    status = solver.Solve(model)\n",
    "\n",
    "    # Print solution.\n",
    "    if status == cp_model.OPTIMAL or status == cp_model.FEASIBLE:\n",
    "        print(f'Total cost = {solver.ObjectiveValue()}')\n",
    "        print()\n",
    "        for i in range(num_workers):\n",
    "            for j in range(num_tasks):\n",
    "                if solver.BooleanValue(x[i][j]):\n",
    "                    print(\n",
    "                        f'Worker {i} assigned to task {j} Cost = {costs[i][j]}')\n",
    "    else:\n",
    "        print('No solution found.')\n",
    "\n",
    "\n",
    "if __name__ == '__main__':\n",
    "    main()"
   ]
  },
  {
   "cell_type": "code",
   "execution_count": null,
   "id": "neither-referral",
   "metadata": {},
   "outputs": [],
   "source": []
  }
 ],
 "metadata": {
  "kernelspec": {
   "display_name": "Python 3",
   "language": "python",
   "name": "python3"
  },
  "language_info": {
   "codemirror_mode": {
    "name": "ipython",
    "version": 3
   },
   "file_extension": ".py",
   "mimetype": "text/x-python",
   "name": "python",
   "nbconvert_exporter": "python",
   "pygments_lexer": "ipython3",
   "version": "3.9.2"
  }
 },
 "nbformat": 4,
 "nbformat_minor": 5
}
