{
 "cells": [
  {
   "cell_type": "code",
   "execution_count": 1,
   "id": "stopped-albany",
   "metadata": {},
   "outputs": [],
   "source": [
    "jumlah = 0\n",
    "rata_rata = 0\n",
    "nilai_tengah = 0\n",
    "terbesar = 0\n",
    "terkecil = 0"
   ]
  }
 ],
 "metadata": {
  "kernelspec": {
   "display_name": "Python 3",
   "language": "python",
   "name": "python3"
  },
  "language_info": {
   "codemirror_mode": {
    "name": "ipython",
    "version": 3
   },
   "file_extension": ".py",
   "mimetype": "text/x-python",
   "name": "python",
   "nbconvert_exporter": "python",
   "pygments_lexer": "ipython3",
   "version": "3.9.2"
  }
 },
 "nbformat": 4,
 "nbformat_minor": 5
}
