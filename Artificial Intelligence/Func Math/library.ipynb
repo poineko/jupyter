{
 "cells": [
  {
   "cell_type": "code",
   "execution_count": 1,
   "id": "military-channels",
   "metadata": {},
   "outputs": [],
   "source": [
    "def funcPenjumlahan(arr):\n",
    "    jumlah = 0\n",
    "    for num in arr:\n",
    "        jumlah += num\n",
    "    return jumlah\n",
    "\n",
    "def funcPanjangArray(arr):\n",
    "    panjang = 0\n",
    "    for angg in arr:\n",
    "        panjang += 1\n",
    "    return panjang\n",
    "\n",
    "def funcMedian(arr):\n",
    "    # cari panjang array\n",
    "    panjang = funcPanjangArray(arr)\n",
    "    \n",
    "    if panjang % 2 == 1:      # jika ganjil\n",
    "        index = panjang // 2 \n",
    "    else:                   # jika genap\n",
    "        index1 = panjang // 2 \n",
    "        index2 = (panjang // 2) - 1  \n",
    "        index = (index1 + index2) / 2\n",
    "    \n",
    "    # akses anggota meggunakan index median\n",
    "    median =  arr[int(index)]\n",
    "\n",
    "    return median\n",
    "\n",
    "def cariMax(arr):\n",
    "    terbesar = arr[0]\n",
    "    for num in arr:\n",
    "        if num > terbesar:\n",
    "            terbesar = num\n",
    "    return terbesar\n",
    "\n",
    "def cariMin(arr):\n",
    "    terkecil = arr[0]\n",
    "    for num in arr:\n",
    "      if num < terkecil:\n",
    "        terkecil = num\n",
    "    return terkecil "
   ]
  },
  {
   "cell_type": "code",
   "execution_count": null,
   "id": "dental-lender",
   "metadata": {},
   "outputs": [],
   "source": []
  }
 ],
 "metadata": {
  "kernelspec": {
   "display_name": "Python 3",
   "language": "python",
   "name": "python3"
  },
  "language_info": {
   "codemirror_mode": {
    "name": "ipython",
    "version": 3
   },
   "file_extension": ".py",
   "mimetype": "text/x-python",
   "name": "python",
   "nbconvert_exporter": "python",
   "pygments_lexer": "ipython3",
   "version": "3.9.2"
  }
 },
 "nbformat": 4,
 "nbformat_minor": 5
}
