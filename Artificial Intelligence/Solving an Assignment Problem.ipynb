{
 "cells": [
  {
   "cell_type": "markdown",
   "id": "constitutional-stocks",
   "metadata": {},
   "source": [
    "    NAMA  : Muhammad Ihsan Al Riawi"
   ]
  },
  {
   "cell_type": "markdown",
   "id": "funny-samoa",
   "metadata": {},
   "source": [
    "    NPM   : 193510482"
   ]
  },
  {
   "cell_type": "markdown",
   "id": "protected-position",
   "metadata": {},
   "source": [
    "    KELAS : IV E"
   ]
  },
  {
   "cell_type": "markdown",
   "id": "danish-album",
   "metadata": {},
   "source": [
    "# Solving an Assignment Problem"
   ]
  },
  {
   "cell_type": "markdown",
   "id": "acquired-pocket",
   "metadata": {},
   "source": [
    "## Integer Programing"
   ]
  },
  {
   "cell_type": "markdown",
   "id": "optional-skating",
   "metadata": {},
   "source": [
    "### Example"
   ]
  },
  {
   "cell_type": "markdown",
   "id": "guided-composite",
   "metadata": {},
   "source": [
    "in the example there are five workers (numbered 0-4) and four tasks (numbered 0-3). Note that there is one more worker than in the example in the Overview."
   ]
  },
  {
   "cell_type": "markdown",
   "id": "induced-advocacy",
   "metadata": {},
   "source": [
    "the costs of assigning workers to tasks are shown :"
   ]
  },
  {
   "cell_type": "markdown",
   "id": "passing-metadata",
   "metadata": {},
   "source": [
    "          0      1      2      3"
   ]
  },
  {
   "cell_type": "markdown",
   "id": "ordinary-celebrity",
   "metadata": {},
   "source": [
    "    0     90     80     75     70"
   ]
  },
  {
   "cell_type": "markdown",
   "id": "aggregate-telephone",
   "metadata": {},
   "source": [
    "    1     35     85     55     65"
   ]
  },
  {
   "cell_type": "markdown",
   "id": "detected-cincinnati",
   "metadata": {},
   "source": [
    "    2     125    95     90     95"
   ]
  },
  {
   "cell_type": "markdown",
   "id": "plain-syracuse",
   "metadata": {},
   "source": [
    "    3     45     110    95     115"
   ]
  },
  {
   "cell_type": "markdown",
   "id": "prompt-captain",
   "metadata": {},
   "source": [
    "    4     50     100    90     100"
   ]
  },
  {
   "cell_type": "markdown",
   "id": "standing-cable",
   "metadata": {},
   "source": [
    "The problem is to assign each worker to at most one task, with no two workers performing the same task, while minimizing the total cost. Since there are more workers than tasks, one worker will not be assigned a task."
   ]
  },
  {
   "cell_type": "markdown",
   "id": "governing-density",
   "metadata": {},
   "source": [
    "### MIP solution"
   ]
  },
  {
   "cell_type": "code",
   "execution_count": 1,
   "id": "dress-heaven",
   "metadata": {},
   "outputs": [],
   "source": [
    "from ortools.linear_solver import pywraplp"
   ]
  },
  {
   "cell_type": "markdown",
   "id": "surface-bronze",
   "metadata": {},
   "source": [
    "### Create the data"
   ]
  },
  {
   "cell_type": "code",
   "execution_count": 2,
   "id": "alike-witch",
   "metadata": {},
   "outputs": [],
   "source": [
    "costs = [\n",
    "    [90, 80, 75, 70],\n",
    "    [35, 85, 55, 65],\n",
    "    [125, 95, 90, 95],\n",
    "    [45, 110, 95, 115],\n",
    "    [50, 100, 90, 100],\n",
    "]\n",
    "num_workers = len(costs)\n",
    "num_tasks = len(costs[0])"
   ]
  },
  {
   "cell_type": "markdown",
   "id": "qualified-evening",
   "metadata": {},
   "source": [
    "### Create the MIP Solver with the SCIP beckend"
   ]
  },
  {
   "cell_type": "code",
   "execution_count": 3,
   "id": "sorted-bread",
   "metadata": {},
   "outputs": [],
   "source": [
    "# Create the mip solver with the SCIP backend.\n",
    "solver = pywraplp.Solver.CreateSolver('SCIP')"
   ]
  },
  {
   "cell_type": "markdown",
   "id": "weird-supply",
   "metadata": {},
   "source": [
    "### Create the variables"
   ]
  },
  {
   "cell_type": "markdown",
   "id": "cosmetic-failing",
   "metadata": {},
   "source": [
    "x[i, j] is a dictionary of 0 - 1 variables, which will be 1 if worker i is assigned to task j"
   ]
  },
  {
   "cell_type": "code",
   "execution_count": 2,
   "id": "motivated-toner",
   "metadata": {},
   "outputs": [
    {
     "ename": "NameError",
     "evalue": "name 'num_workers' is not defined",
     "output_type": "error",
     "traceback": [
      "\u001b[1;31m---------------------------------------------------------------------------\u001b[0m",
      "\u001b[1;31mNameError\u001b[0m                                 Traceback (most recent call last)",
      "\u001b[1;32m<ipython-input-2-ca759c564e15>\u001b[0m in \u001b[0;36m<module>\u001b[1;34m\u001b[0m\n\u001b[0;32m      2\u001b[0m \u001b[1;31m# if worker i is assigned to task j.\u001b[0m\u001b[1;33m\u001b[0m\u001b[1;33m\u001b[0m\u001b[1;33m\u001b[0m\u001b[0m\n\u001b[0;32m      3\u001b[0m \u001b[0mx\u001b[0m \u001b[1;33m=\u001b[0m \u001b[1;33m{\u001b[0m\u001b[1;33m}\u001b[0m\u001b[1;33m\u001b[0m\u001b[1;33m\u001b[0m\u001b[0m\n\u001b[1;32m----> 4\u001b[1;33m \u001b[1;32mfor\u001b[0m \u001b[0mi\u001b[0m \u001b[1;32min\u001b[0m \u001b[0mrange\u001b[0m\u001b[1;33m(\u001b[0m\u001b[0mnum_workers\u001b[0m\u001b[1;33m)\u001b[0m\u001b[1;33m:\u001b[0m\u001b[1;33m\u001b[0m\u001b[1;33m\u001b[0m\u001b[0m\n\u001b[0m\u001b[0;32m      5\u001b[0m     \u001b[1;32mfor\u001b[0m \u001b[0mj\u001b[0m \u001b[1;32min\u001b[0m \u001b[0mrange\u001b[0m\u001b[1;33m(\u001b[0m\u001b[0mnum_tasks\u001b[0m\u001b[1;33m)\u001b[0m\u001b[1;33m:\u001b[0m\u001b[1;33m\u001b[0m\u001b[1;33m\u001b[0m\u001b[0m\n\u001b[0;32m      6\u001b[0m         \u001b[0mx\u001b[0m\u001b[1;33m[\u001b[0m\u001b[0mi\u001b[0m\u001b[1;33m,\u001b[0m \u001b[0mj\u001b[0m\u001b[1;33m]\u001b[0m \u001b[1;33m=\u001b[0m \u001b[0msolver\u001b[0m\u001b[1;33m.\u001b[0m\u001b[0mIntVar\u001b[0m\u001b[1;33m(\u001b[0m\u001b[1;36m0\u001b[0m\u001b[1;33m,\u001b[0m \u001b[1;36m1\u001b[0m\u001b[1;33m,\u001b[0m \u001b[1;34m''\u001b[0m\u001b[1;33m)\u001b[0m\u001b[1;33m\u001b[0m\u001b[1;33m\u001b[0m\u001b[0m\n",
      "\u001b[1;31mNameError\u001b[0m: name 'num_workers' is not defined"
     ]
    }
   ],
   "source": [
    "# x[i, j] is an array of 0-1 variables, which will be 1\n",
    "# if worker i is assigned to task j.\n",
    "x = {}\n",
    "for i in range(num_workers):\n",
    "    for j in range(num_tasks):\n",
    "        x[i, j] = solver.IntVar(0, 1, '')"
   ]
  },
  {
   "cell_type": "markdown",
   "id": "architectural-safety",
   "metadata": {},
   "source": [
    "### Create the constraints"
   ]
  },
  {
   "cell_type": "markdown",
   "id": "overhead-tragedy",
   "metadata": {},
   "source": [
    "Constraints 1:"
   ]
  },
  {
   "cell_type": "code",
   "execution_count": 5,
   "id": "matched-wrestling",
   "metadata": {},
   "outputs": [],
   "source": [
    "# Each worker is assigned to at most 1 task.\n",
    "for i in range(num_workers):\n",
    "    solver.Add(solver.Sum([x[i, j] for j in range(num_tasks)]) <= 1)"
   ]
  },
  {
   "cell_type": "markdown",
   "id": "republican-realtor",
   "metadata": {},
   "source": [
    "Visualisasi dari sum di atas yaitu x[0, 0] + x[0, 1] + x[0, 2] + x[0, 3] = 0 | 1"
   ]
  },
  {
   "cell_type": "markdown",
   "id": "artificial-metro",
   "metadata": {},
   "source": [
    "Constraints 2:"
   ]
  },
  {
   "cell_type": "code",
   "execution_count": 6,
   "id": "developed-scene",
   "metadata": {},
   "outputs": [],
   "source": [
    "# Each task is assigned to exactly one worker.\n",
    "for j in range(num_tasks):\n",
    "    solver.Add(solver.Sum([x[i, j] for i in range(num_workers)]) == 1)"
   ]
  },
  {
   "cell_type": "markdown",
   "id": "acquired-dallas",
   "metadata": {},
   "source": [
    "Visualisasi dari sum di atas yaitu x[0, 2] + x[1, 2] + x[2, 2] + x[3, 2] + x[4, 2] = 1"
   ]
  },
  {
   "cell_type": "markdown",
   "id": "contained-singles",
   "metadata": {},
   "source": [
    "### Create the objective function"
   ]
  },
  {
   "cell_type": "code",
   "execution_count": 7,
   "id": "colored-territory",
   "metadata": {},
   "outputs": [],
   "source": [
    "objective_terms = []\n",
    "for i in range(num_workers):\n",
    "    for j in range(num_tasks):\n",
    "        objective_terms.append(costs[i][j] * x[i, j])\n",
    "solver.Minimize(solver.Sum(objective_terms))"
   ]
  },
  {
   "cell_type": "markdown",
   "id": "united-greeting",
   "metadata": {},
   "source": [
    "### Invoke the solver"
   ]
  },
  {
   "cell_type": "code",
   "execution_count": 8,
   "id": "dramatic-theology",
   "metadata": {},
   "outputs": [],
   "source": [
    "status = solver.Solve()"
   ]
  },
  {
   "cell_type": "markdown",
   "id": "french-former",
   "metadata": {},
   "source": [
    "### Print the solution"
   ]
  },
  {
   "cell_type": "code",
   "execution_count": 9,
   "id": "closing-decline",
   "metadata": {
    "scrolled": true
   },
   "outputs": [
    {
     "name": "stdout",
     "output_type": "stream",
     "text": [
      "Total cost =  265.0 \n",
      "\n",
      "Worker 0 assigned to task 0.  Cost = 90. Solution_value = 0.0\n",
      "Worker 0 assigned to task 1.  Cost = 80. Solution_value = 0.0\n",
      "Worker 0 assigned to task 2.  Cost = 75. Solution_value = 0.0\n",
      "Worker 0 assigned to task 3.  Cost = 70. Solution_value = 1.0\n",
      "Worker 1 assigned to task 0.  Cost = 35. Solution_value = 0.0\n",
      "Worker 1 assigned to task 1.  Cost = 85. Solution_value = 0.0\n",
      "Worker 1 assigned to task 2.  Cost = 55. Solution_value = 1.0\n",
      "Worker 1 assigned to task 3.  Cost = 65. Solution_value = 0.0\n",
      "Worker 2 assigned to task 0.  Cost = 125. Solution_value = 0.0\n",
      "Worker 2 assigned to task 1.  Cost = 95. Solution_value = 1.0\n",
      "Worker 2 assigned to task 2.  Cost = 90. Solution_value = 0.0\n",
      "Worker 2 assigned to task 3.  Cost = 95. Solution_value = 0.0\n",
      "Worker 3 assigned to task 0.  Cost = 45. Solution_value = 1.0\n",
      "Worker 3 assigned to task 1.  Cost = 110. Solution_value = 0.0\n",
      "Worker 3 assigned to task 2.  Cost = 95. Solution_value = 0.0\n",
      "Worker 3 assigned to task 3.  Cost = 115. Solution_value = 0.0\n",
      "Worker 4 assigned to task 0.  Cost = 50. Solution_value = 0.0\n",
      "Worker 4 assigned to task 1.  Cost = 100. Solution_value = 0.0\n",
      "Worker 4 assigned to task 2.  Cost = 90. Solution_value = 0.0\n",
      "Worker 4 assigned to task 3.  Cost = 100. Solution_value = 0.0\n"
     ]
    }
   ],
   "source": [
    "if status == pywraplp.Solver.OPTIMAL or status == pywraplp.Solver.FEASIBLE:\n",
    "    print('Total cost = ', solver.Objective().Value(), '\\n')\n",
    "    for i in range(num_workers):\n",
    "        for j in range(num_tasks):\n",
    "            # Test if x[i,j] is 1 (with tolerance for floating point arithmetic).\n",
    "            #if x[i, j].solution_value() > 0.5:\n",
    "            print(f\"Worker {i} assigned to task {j}.  Cost = {costs[i][j]}. Solution_value = {x[i, j].solution_value()}\")"
   ]
  },
  {
   "cell_type": "code",
   "execution_count": 10,
   "id": "vertical-september",
   "metadata": {},
   "outputs": [
    {
     "name": "stdout",
     "output_type": "stream",
     "text": [
      "Total cost =  265.0 \n",
      "\n",
      "Worker 0 assigned to task 3.  Cost = 70. Solution_value = 1.0\n",
      "Worker 1 assigned to task 2.  Cost = 55. Solution_value = 1.0\n",
      "Worker 2 assigned to task 1.  Cost = 95. Solution_value = 1.0\n",
      "Worker 3 assigned to task 0.  Cost = 45. Solution_value = 1.0\n"
     ]
    }
   ],
   "source": [
    "if status == pywraplp.Solver.OPTIMAL or status == pywraplp.Solver.FEASIBLE:\n",
    "    print('Total cost = ', solver.Objective().Value(), '\\n')\n",
    "    for i in range(num_workers):\n",
    "        for j in range(num_tasks):\n",
    "            # Test if x[i,j] is 1 (with tolerance for floating point arithmetic).\n",
    "            if x[i, j].solution_value() > 0.5:\n",
    "                print(f\"Worker {i} assigned to task {j}.  Cost = {costs[i][j]}. Solution_value = {x[i, j].solution_value()}\")"
   ]
  },
  {
   "cell_type": "code",
   "execution_count": null,
   "id": "single-closure",
   "metadata": {},
   "outputs": [],
   "source": []
  }
 ],
 "metadata": {
  "kernelspec": {
   "display_name": "Python 3",
   "language": "python",
   "name": "python3"
  },
  "language_info": {
   "codemirror_mode": {
    "name": "ipython",
    "version": 3
   },
   "file_extension": ".py",
   "mimetype": "text/x-python",
   "name": "python",
   "nbconvert_exporter": "python",
   "pygments_lexer": "ipython3",
   "version": "3.9.2"
  }
 },
 "nbformat": 4,
 "nbformat_minor": 5
}
