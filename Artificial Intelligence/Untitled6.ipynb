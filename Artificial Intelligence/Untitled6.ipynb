{
 "cells": [
  {
   "cell_type": "code",
   "execution_count": 2,
   "id": "persistent-caribbean",
   "metadata": {},
   "outputs": [
    {
     "name": "stdout",
     "output_type": "stream",
     "text": [
      "importing Jupyter notebook from csp.ipynb\n"
     ]
    },
    {
     "ename": "NameError",
     "evalue": "name 'Problem' is not defined",
     "output_type": "error",
     "traceback": [
      "\u001b[1;31m---------------------------------------------------------------------------\u001b[0m",
      "\u001b[1;31mNameError\u001b[0m                                 Traceback (most recent call last)",
      "\u001b[1;32m<ipython-input-2-3aee7506e4bf>\u001b[0m in \u001b[0;36m<module>\u001b[1;34m\u001b[0m\n\u001b[0;32m      3\u001b[0m \u001b[1;32mfrom\u001b[0m \u001b[0mtyping\u001b[0m \u001b[1;32mimport\u001b[0m \u001b[0mDict\u001b[0m\u001b[1;33m,\u001b[0m \u001b[0mList\u001b[0m\u001b[1;33m,\u001b[0m \u001b[0mOptional\u001b[0m\u001b[1;33m\u001b[0m\u001b[1;33m\u001b[0m\u001b[0m\n\u001b[0;32m      4\u001b[0m \u001b[1;33m\u001b[0m\u001b[0m\n\u001b[1;32m----> 5\u001b[1;33m \u001b[0mproblem\u001b[0m \u001b[1;33m=\u001b[0m \u001b[0mProblem\u001b[0m\u001b[1;33m(\u001b[0m\u001b[1;33m)\u001b[0m\u001b[1;33m\u001b[0m\u001b[1;33m\u001b[0m\u001b[0m\n\u001b[0m\u001b[0;32m      6\u001b[0m \u001b[1;33m\u001b[0m\u001b[0m\n\u001b[0;32m      7\u001b[0m \u001b[0mcolors\u001b[0m \u001b[1;33m=\u001b[0m \u001b[1;33m[\u001b[0m\u001b[1;34m\"blue\"\u001b[0m\u001b[1;33m,\u001b[0m\u001b[1;34m\"green\"\u001b[0m\u001b[1;33m,\u001b[0m\u001b[1;34m\"red\"\u001b[0m\u001b[1;33m]\u001b[0m\u001b[1;33m\u001b[0m\u001b[1;33m\u001b[0m\u001b[0m\n",
      "\u001b[1;31mNameError\u001b[0m: name 'Problem' is not defined"
     ]
    }
   ],
   "source": [
    "import import_ipynb\n",
    "from csp import Constraint, CSP\n",
    "from typing import Dict, List, Optional\n",
    "\n",
    "problem = Problem()\n",
    "\n",
    "colors = [\"blue\",\"green\",\"red\"]\n",
    "states = [\"WA\",\"NT\",\"Q\",\"NSW\",\"V\",\"SA\",\"T\"]\n",
    "\n",
    "for state in states:\n",
    "    problem.add_variable(Variable(state, colors))\n",
    "\n",
    "problem.add_constraint(AllDifferentConstraint([\"WA\", \"NT\"]))\n",
    "problem.add_constraint(AllDifferentConstraint([\"WA\", \"SA\"]))\n",
    "problem.add_constraint(AllDifferentConstraint([\"NT\", \"SA\"]))\n",
    "problem.add_constraint(AllDifferentConstraint([\"NT\", \"Q\"]))\n",
    "problem.add_constraint(AllDifferentConstraint([\"SA\", \"Q\"]))\n",
    "problem.add_constraint(AllDifferentConstraint([\"SA\", \"NSW\"]))\n",
    "problem.add_constraint(AllDifferentConstraint([\"SA\", \"V\"]))\n",
    "problem.add_constraint(AllDifferentConstraint([\"Q\", \"NSW\"]))\n",
    "problem.add_constraint(AllDifferentConstraint([\"V\", \"NSW\"]))\n",
    "\n",
    "print(problem.get_solutions()[0])"
   ]
  },
  {
   "cell_type": "code",
   "execution_count": null,
   "id": "electrical-retailer",
   "metadata": {},
   "outputs": [],
   "source": []
  }
 ],
 "metadata": {
  "kernelspec": {
   "display_name": "Python 3",
   "language": "python",
   "name": "python3"
  },
  "language_info": {
   "codemirror_mode": {
    "name": "ipython",
    "version": 3
   },
   "file_extension": ".py",
   "mimetype": "text/x-python",
   "name": "python",
   "nbconvert_exporter": "python",
   "pygments_lexer": "ipython3",
   "version": "3.9.2"
  }
 },
 "nbformat": 4,
 "nbformat_minor": 5
}
