{
 "cells": [
  {
   "cell_type": "code",
   "execution_count": 1,
   "id": "sticky-hands",
   "metadata": {
    "scrolled": true
   },
   "outputs": [
    {
     "name": "stdout",
     "output_type": "stream",
     "text": [
      "Anggota : \n",
      "\n",
      "Nama : ALVINZA PRATAMA\n",
      "NPM  : 193510435 \n",
      "\n",
      "Nama : BAGUS HARDE YANDI\n",
      "NPM  : 193510465 \n",
      "\n",
      "Nama : MUHAMMAD IHSAN AL RIAWI\n",
      "NPM  : 193510482 \n",
      "\n",
      "Nama : RIKHO DARULY\n",
      "NPM  : 193510502 \n",
      "\n"
     ]
    }
   ],
   "source": [
    "class Kelompok:\n",
    "    def __init__(self, nama, npm):\n",
    "        self.nama = nama\n",
    "        self.npm = npm\n",
    "        \n",
    "class anggota(Kelompok):\n",
    "    def __init__(self, nama, npm):\n",
    "        Kelompok.__init__(self, nama, npm)\n",
    "        pass\n",
    "print(\"Anggota : \\n\")        \n",
    "agt1 = anggota(\"ALVINZA PRATAMA\", 193510435)\n",
    "print(f\"Nama : {agt1.nama}\\nNPM  : {agt1.npm} \\n\")\n",
    "\n",
    "agt2 = anggota(\"BAGUS HARDE YANDI\", 193510465)\n",
    "print(f\"Nama : {agt2.nama}\\nNPM  : {agt2.npm} \\n\")\n",
    "\n",
    "agt3 = anggota(\"MUHAMMAD IHSAN AL RIAWI\", 193510482)\n",
    "print(f\"Nama : {agt3.nama}\\nNPM  : {agt3.npm} \\n\")\n",
    "\n",
    "agt4 = anggota(\"RIKHO DARULY\", 193510502)\n",
    "print(f\"Nama : {agt4.nama}\\nNPM  : {agt4.npm} \\n\")"
   ]
  },
  {
   "cell_type": "markdown",
   "id": "substantial-villa",
   "metadata": {},
   "source": [
    "# Tugas Kelompok Assignment Problem"
   ]
  },
  {
   "cell_type": "markdown",
   "id": "large-bangladesh",
   "metadata": {},
   "source": [
    "Model  Penugasan  (Assigment)  pada  awalnya  dikenal  sebagai Hungarian  Method.  Istilah  ini diberikan   untuk   mengabadikan   D.   Konig,   ahli   matematika   asal   Hungaria   yang   pertama   kali mengembangkan  model ini (Siswanto, 2007).Thomas J. Kakiay (2008) menyatakan  bahwa masalah penugasan  adalah  alokasi  dari  banyak  pekerjaan  atau  individu  pekerja  yang  dinyatakan  dengan untuk mengerjakan pekerjaan atau mesin dengan unit atau biaya yang sudah ditentukan"
   ]
  },
  {
   "cell_type": "markdown",
   "id": "herbal-things",
   "metadata": {},
   "source": [
    "Metode penugasan digunakan untuk memaksimalkan keuntungan dalam suatu perusahaan. Beberapa hal yang  harus  diketahui  dalam  menyelesaikan  masalah  penugasan  yaitu:"
   ]
  },
  {
   "cell_type": "markdown",
   "id": "stunning-alexandria",
   "metadata": {},
   "source": [
    "jumlah  pekerja(m),jumlah  pekerjaan yang akan diselesaikan (n), penugasan pekerja pada suatu pekerjaan(ijX),           parameter alokasi penugasan(ijC).Secara umum masalah penugasan dapat ditulis dengan rumus sebagai berikut"
   ]
  },
  {
   "cell_type": "markdown",
   "id": "fixed-cabinet",
   "metadata": {},
   "source": [
    "<img src=\"The problem00.PNG\"/>"
   ]
  },
  {
   "cell_type": "markdown",
   "id": "controlling-button",
   "metadata": {},
   "source": [
    "Data dari permasalahan"
   ]
  },
  {
   "cell_type": "markdown",
   "id": "beginning-harmony",
   "metadata": {},
   "source": [
    "<img src=\"tabel data.PNG\"/>"
   ]
  },
  {
   "cell_type": "markdown",
   "id": "corresponding-sentence",
   "metadata": {},
   "source": [
    "### Import Guroby"
   ]
  },
  {
   "cell_type": "code",
   "execution_count": 1,
   "id": "processed-victory",
   "metadata": {},
   "outputs": [],
   "source": [
    "from gurobipy import *"
   ]
  },
  {
   "cell_type": "markdown",
   "id": "engaged-auditor",
   "metadata": {},
   "source": [
    "### Defining Sets"
   ]
  },
  {
   "cell_type": "code",
   "execution_count": 3,
   "id": "liked-bubble",
   "metadata": {},
   "outputs": [],
   "source": [
    "# Defining Sets\n",
    "\n",
    "krw = [1, 2, 3, 4, 5, 6, 7, 8]\n",
    "jns_baju = [\"A\", \"B\", \"C\", \"D\", \"E\", \"F\", \"G\", \"H\"]\n",
    "\n",
    "I = range(len(krw))\n",
    "J = range(len(jns_baju))"
   ]
  },
  {
   "cell_type": "markdown",
   "id": "delayed-running",
   "metadata": {},
   "source": [
    "### Create the data (Parameters)"
   ]
  },
  {
   "cell_type": "code",
   "execution_count": 2,
   "id": "annoying-operation",
   "metadata": {},
   "outputs": [],
   "source": [
    "# parameters\n",
    "\n",
    "jml_baju = [[54,84,72,63,51,69,90,78],\n",
    "            [68,66,81,87,57,53,72,83],\n",
    "            [60,54,60,79,85,72,84,66],\n",
    "            [73,77,91,67,60,83,88,78],\n",
    "            [46,54,66,51,62,60,60,54],\n",
    "            [63,60,54,68,89,84,72,76],\n",
    "            [72,81,62,50,54,61,66,72],\n",
    "            [60,78,58,63,69,60,76,84]]"
   ]
  },
  {
   "cell_type": "markdown",
   "id": "christian-university",
   "metadata": {},
   "source": [
    "### Create the Model"
   ]
  },
  {
   "cell_type": "code",
   "execution_count": 4,
   "id": "civil-fairy",
   "metadata": {
    "scrolled": false
   },
   "outputs": [
    {
     "name": "stdout",
     "output_type": "stream",
     "text": [
      "Restricted license - for non-production use only - expires 2022-01-13\n"
     ]
    }
   ],
   "source": [
    "# Model\n",
    "\n",
    "m = Model(\"Assignment Model\")"
   ]
  },
  {
   "cell_type": "markdown",
   "id": "national-environment",
   "metadata": {},
   "source": [
    "### Create the variables"
   ]
  },
  {
   "cell_type": "code",
   "execution_count": 5,
   "id": "interstate-cross",
   "metadata": {},
   "outputs": [],
   "source": [
    "X = {}\n",
    "for i in I:\n",
    "    for j in J:\n",
    "               X[i,j] = m.addVar(vtype= GRB.BINARY)\n"
   ]
  },
  {
   "cell_type": "markdown",
   "id": "manual-exclusive",
   "metadata": {},
   "source": [
    "### Objective Function"
   ]
  },
  {
   "cell_type": "code",
   "execution_count": 6,
   "id": "reverse-county",
   "metadata": {},
   "outputs": [],
   "source": [
    "#Objective Function\n",
    "\n",
    "m.setObjective(quicksum(jml_baju[i][j]*X[i,j] for i in I for j in J),\n",
    "               GRB.MAXIMIZE)"
   ]
  },
  {
   "cell_type": "markdown",
   "id": "valuable-filename",
   "metadata": {},
   "source": [
    "### Create the constraints"
   ]
  },
  {
   "cell_type": "code",
   "execution_count": 7,
   "id": "enabling-jumping",
   "metadata": {},
   "outputs": [],
   "source": [
    "# # CONSTRAINTS\n",
    "\n",
    "#Constraint-1\n",
    "for i in I:\n",
    "     m.addConstr(quicksum(X[i,j] for j in J) <= 1)\n",
    "        \n",
    "#Constraint-2\n",
    "for j in J:\n",
    "    m.addConstr(quicksum(X[i,j] for i in I) == 1)"
   ]
  },
  {
   "cell_type": "markdown",
   "id": "becoming-mechanics",
   "metadata": {},
   "source": [
    "#### see the optimum solution"
   ]
  },
  {
   "cell_type": "code",
   "execution_count": 8,
   "id": "lucky-fusion",
   "metadata": {},
   "outputs": [
    {
     "name": "stdout",
     "output_type": "stream",
     "text": [
      "Gurobi Optimizer version 9.1.2 build v9.1.2rc0 (win64)\n",
      "Thread count: 2 physical cores, 4 logical processors, using up to 4 threads\n",
      "Optimize a model with 16 rows, 64 columns and 128 nonzeros\n",
      "Model fingerprint: 0x793eb2cd\n",
      "Variable types: 0 continuous, 64 integer (64 binary)\n",
      "Coefficient statistics:\n",
      "  Matrix range     [1e+00, 1e+00]\n",
      "  Objective range  [5e+01, 9e+01]\n",
      "  Bounds range     [1e+00, 1e+00]\n",
      "  RHS range        [1e+00, 1e+00]\n",
      "Found heuristic solution: objective 572.0000000\n",
      "Presolve time: 0.00s\n",
      "Presolved: 16 rows, 64 columns, 128 nonzeros\n",
      "Variable types: 0 continuous, 64 integer (64 binary)\n",
      "\n",
      "Root relaxation: objective 6.510000e+02, 6 iterations, 0.00 seconds\n",
      "\n",
      "    Nodes    |    Current Node    |     Objective Bounds      |     Work\n",
      " Expl Unexpl |  Obj  Depth IntInf | Incumbent    BestBd   Gap | It/Node Time\n",
      "\n",
      "*    0     0               0     651.0000000  651.00000  0.00%     -    0s\n",
      "\n",
      "Explored 0 nodes (6 simplex iterations) in 0.03 seconds\n",
      "Thread count was 4 (of 4 available processors)\n",
      "\n",
      "Solution count 2: 651 572 \n",
      "\n",
      "Optimal solution found (tolerance 1.00e-04)\n",
      "Best objective 6.510000000000e+02, best bound 6.510000000000e+02, gap 0.0000%\n",
      "Optimum Solution is:  651.0 Stell\n"
     ]
    }
   ],
   "source": [
    "# to see Optimum Solution\n",
    "m.optimize()\n",
    "print(\"Optimum Solution is: \",m.objVal, \"Stell\")"
   ]
  },
  {
   "cell_type": "markdown",
   "id": "minute-budapest",
   "metadata": {},
   "source": [
    "### Print the solution"
   ]
  },
  {
   "cell_type": "code",
   "execution_count": 9,
   "id": "psychological-miami",
   "metadata": {},
   "outputs": [
    {
     "name": "stdout",
     "output_type": "stream",
     "text": [
      "__________________________________________________________________\n",
      "Jumlah produksi Maksimal adalah sebanyak : 651.0 Stell pakaiaan\n",
      "__________________________________________________________________\n",
      "Seragam  A  yang di buat oleh karyawan  2   berjumlah =  84 stell \n",
      "Seragam  B  yang di buat oleh karyawan  4   berjumlah =  87 stell \n",
      "Seragam  C  yang di buat oleh karyawan  7   berjumlah =  84 stell \n",
      "Seragam  D  yang di buat oleh karyawan  3   berjumlah =  91 stell \n",
      "Seragam  E  yang di buat oleh karyawan  6   berjumlah =  60 stell \n",
      "Seragam  F  yang di buat oleh karyawan  5   berjumlah =  89 stell \n",
      "Seragam  G  yang di buat oleh karyawan  1   berjumlah =  72 stell \n",
      "Seragam  H  yang di buat oleh karyawan  8   berjumlah =  84 stell \n"
     ]
    }
   ],
   "source": [
    "print(\"__________________________________________________________________\")\n",
    "print(\"Jumlah produksi Maksimal adalah sebanyak :\", m.objVal, \"Stell pakaiaan\")\n",
    "print(\"__________________________________________________________________\")\n",
    "for i in I:  \n",
    "    for j in J:\n",
    "        if X[i,j].x ==1:\n",
    "            print(\"Seragam \",(jns_baju[i]), \" yang di buat oleh karyawan \" ,(krw[j]), \"  berjumlah = \",(jml_baju[i][j]), \"stell \")"
   ]
  },
  {
   "cell_type": "markdown",
   "id": "amber-reminder",
   "metadata": {},
   "source": [
    "<img src=\"optimalSolution.PNG\"/>"
   ]
  },
  {
   "cell_type": "code",
   "execution_count": 10,
   "id": "unusual-married",
   "metadata": {},
   "outputs": [
    {
     "name": "stdout",
     "output_type": "stream",
     "text": [
      "651\n"
     ]
    }
   ],
   "source": [
    "TOTAL = 84 + 87 + 84 + 91 + 60 + 89 + 72 + 84\n",
    "print(TOTAL)"
   ]
  }
 ],
 "metadata": {
  "kernelspec": {
   "display_name": "Python 3",
   "language": "python",
   "name": "python3"
  },
  "language_info": {
   "codemirror_mode": {
    "name": "ipython",
    "version": 3
   },
   "file_extension": ".py",
   "mimetype": "text/x-python",
   "name": "python",
   "nbconvert_exporter": "python",
   "pygments_lexer": "ipython3",
   "version": "3.9.2"
  }
 },
 "nbformat": 4,
 "nbformat_minor": 5
}
