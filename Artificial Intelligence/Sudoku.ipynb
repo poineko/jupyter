{
 "cells": [
  {
   "cell_type": "code",
   "execution_count": 5,
   "id": "golden-verse",
   "metadata": {},
   "outputs": [
    {
     "ename": "KeyError",
     "evalue": "11",
     "output_type": "error",
     "traceback": [
      "\u001b[1;31m---------------------------------------------------------------------------\u001b[0m",
      "\u001b[1;31mKeyError\u001b[0m                                  Traceback (most recent call last)",
      "\u001b[1;32m<ipython-input-5-11816039ff12>\u001b[0m in \u001b[0;36m<module>\u001b[1;34m\u001b[0m\n\u001b[0;32m     47\u001b[0m         \u001b[1;32mfor\u001b[0m \u001b[0mcol\u001b[0m \u001b[1;32min\u001b[0m \u001b[0mrange\u001b[0m\u001b[1;33m(\u001b[0m\u001b[1;36m1\u001b[0m\u001b[1;33m,\u001b[0m \u001b[1;36m10\u001b[0m\u001b[1;33m)\u001b[0m\u001b[1;33m:\u001b[0m\u001b[1;33m\u001b[0m\u001b[1;33m\u001b[0m\u001b[0m\n\u001b[0;32m     48\u001b[0m             \u001b[0mindex\u001b[0m \u001b[1;33m=\u001b[0m \u001b[0mrow\u001b[0m \u001b[1;33m*\u001b[0m \u001b[1;36m10\u001b[0m \u001b[1;33m+\u001b[0m \u001b[0mcol\u001b[0m\u001b[1;33m\u001b[0m\u001b[1;33m\u001b[0m\u001b[0m\n\u001b[1;32m---> 49\u001b[1;33m             \u001b[0mprint\u001b[0m\u001b[1;33m(\u001b[0m\u001b[0msolution\u001b[0m\u001b[1;33m[\u001b[0m\u001b[0mindex\u001b[0m\u001b[1;33m]\u001b[0m\u001b[1;33m,\u001b[0m \u001b[0mend\u001b[0m\u001b[1;33m=\u001b[0m\u001b[1;34m''\u001b[0m\u001b[1;33m)\u001b[0m\u001b[1;33m\u001b[0m\u001b[1;33m\u001b[0m\u001b[0m\n\u001b[0m\u001b[0;32m     50\u001b[0m             \u001b[1;32mif\u001b[0m \u001b[0mcol\u001b[0m \u001b[1;33m%\u001b[0m \u001b[1;36m3\u001b[0m \u001b[1;33m==\u001b[0m \u001b[1;36m0\u001b[0m\u001b[1;33m:\u001b[0m\u001b[1;33m\u001b[0m\u001b[1;33m\u001b[0m\u001b[0m\n\u001b[0;32m     51\u001b[0m                 \u001b[0mprint\u001b[0m\u001b[1;33m(\u001b[0m\u001b[1;34m'|'\u001b[0m\u001b[1;33m,\u001b[0m \u001b[0mend\u001b[0m\u001b[1;33m=\u001b[0m\u001b[1;34m''\u001b[0m\u001b[1;33m)\u001b[0m\u001b[1;33m\u001b[0m\u001b[1;33m\u001b[0m\u001b[0m\n",
      "\u001b[1;31mKeyError\u001b[0m: 11"
     ]
    }
   ],
   "source": [
    "import import_ipynb\n",
    "from csp2 import *\n",
    "\n",
    "problem = Problem()\n",
    "\n",
    "# Add variables\n",
    "# This is bad code - assumes file is formatted properly. Never trust users - they are all idiots.\n",
    "row = 1\n",
    "for line in game_file:\n",
    "    col = 1\n",
    "    for elem in line.split(','):\n",
    "        num = int(elem)\n",
    "        var_name = row * 10 + col\n",
    "        if num == 0:\n",
    "            problem.add_variable(Variable(var_name, list(range(1, 10))))\n",
    "        else:\n",
    "            problem.add_variable(Variable(var_name, [num]))\n",
    "        col += 1\n",
    "    row += 1\n",
    "\n",
    "# Add constrains\n",
    "# rows different\n",
    "for row in range(1, 10):\n",
    "    problem.add_constraint(AllDifferentConstraint(range(row * 10 + 1, row * 10 + 10)))\n",
    "\n",
    "# cols different\n",
    "for col in range(1, 10):\n",
    "    problem.add_constraint(AllDifferentConstraint(range(10 + col, 100 + col, 10)))\n",
    "\n",
    "# squares different\n",
    "problem.add_constraint(AllDifferentConstraint([11, 12, 13, 21, 22, 23, 31, 32, 33]))\n",
    "problem.add_constraint(AllDifferentConstraint([14, 15, 16, 24, 25, 26, 34, 35, 36]))\n",
    "problem.add_constraint(AllDifferentConstraint([17, 18, 19, 27, 28, 29, 37, 38, 39]))\n",
    "\n",
    "problem.add_constraint(AllDifferentConstraint([41, 42, 43, 51, 52, 53, 61, 62, 63]))\n",
    "problem.add_constraint(AllDifferentConstraint([44, 45, 46, 54, 55, 56, 64, 65, 66]))\n",
    "problem.add_constraint(AllDifferentConstraint([47, 48, 49, 57, 58, 59, 67, 68, 69]))\n",
    "\n",
    "problem.add_constraint(AllDifferentConstraint([71, 72, 73, 81, 82, 83, 91, 92, 93]))\n",
    "problem.add_constraint(AllDifferentConstraint([74, 75, 76, 84, 85, 86, 94, 95, 96]))\n",
    "problem.add_constraint(AllDifferentConstraint([77, 78, 79, 87, 88, 89, 97, 98, 99]))\n",
    "\n",
    "solutions = problem.get_solutions()\n",
    "\n",
    "for solution in solutions:\n",
    "    for row in range(1, 10):\n",
    "        for col in range(1, 10):\n",
    "            index = row * 10 + col\n",
    "            print(solution[index], end='')\n",
    "            if col % 3 == 0:\n",
    "                print('|', end='')\n",
    "        print()\n",
    "        if row % 3 == 0:\n",
    "            print('---+---+---')"
   ]
  },
  {
   "cell_type": "code",
   "execution_count": null,
   "id": "digital-prescription",
   "metadata": {},
   "outputs": [],
   "source": []
  }
 ],
 "metadata": {
  "kernelspec": {
   "display_name": "Python 3",
   "language": "python",
   "name": "python3"
  },
  "language_info": {
   "codemirror_mode": {
    "name": "ipython",
    "version": 3
   },
   "file_extension": ".py",
   "mimetype": "text/x-python",
   "name": "python",
   "nbconvert_exporter": "python",
   "pygments_lexer": "ipython3",
   "version": "3.9.2"
  }
 },
 "nbformat": 4,
 "nbformat_minor": 5
}
