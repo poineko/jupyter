{
 "cells": [
  {
   "cell_type": "code",
   "execution_count": 2,
   "id": "educated-cambridge",
   "metadata": {},
   "outputs": [
    {
     "ename": "NameError",
     "evalue": "name 'assigment' is not defined",
     "output_type": "error",
     "traceback": [
      "\u001b[1;31m---------------------------------------------------------------------------\u001b[0m",
      "\u001b[1;31mNameError\u001b[0m                                 Traceback (most recent call last)",
      "\u001b[1;32m<ipython-input-2-3b94751ed14d>\u001b[0m in \u001b[0;36m<module>\u001b[1;34m\u001b[0m\n\u001b[0;32m     37\u001b[0m     \u001b[0mc\u001b[0m\u001b[1;33m.\u001b[0m\u001b[0madd_constraint\u001b[0m\u001b[1;33m(\u001b[0m\u001b[0mMCC\u001b[0m\u001b[1;33m(\u001b[0m\u001b[1;34m\"Victoria\"\u001b[0m\u001b[1;33m,\u001b[0m \u001b[1;34m\"Tasmania\"\u001b[0m\u001b[1;33m)\u001b[0m\u001b[1;33m)\u001b[0m\u001b[1;33m\u001b[0m\u001b[1;33m\u001b[0m\u001b[0m\n\u001b[0;32m     38\u001b[0m \u001b[1;33m\u001b[0m\u001b[0m\n\u001b[1;32m---> 39\u001b[1;33m     \u001b[0msolution\u001b[0m\u001b[1;33m:\u001b[0m \u001b[0mOptional\u001b[0m\u001b[1;33m[\u001b[0m\u001b[0mDict\u001b[0m\u001b[1;33m[\u001b[0m\u001b[0mstr\u001b[0m\u001b[1;33m,\u001b[0m \u001b[0mstr\u001b[0m\u001b[1;33m]\u001b[0m\u001b[1;33m]\u001b[0m \u001b[1;33m=\u001b[0m \u001b[0mc\u001b[0m\u001b[1;33m.\u001b[0m\u001b[0mbs\u001b[0m\u001b[1;33m(\u001b[0m\u001b[1;33m)\u001b[0m\u001b[1;33m\u001b[0m\u001b[1;33m\u001b[0m\u001b[0m\n\u001b[0m\u001b[0;32m     40\u001b[0m     \u001b[1;32mif\u001b[0m \u001b[0msolution\u001b[0m \u001b[1;32mis\u001b[0m \u001b[1;32mNone\u001b[0m\u001b[1;33m:\u001b[0m\u001b[1;33m\u001b[0m\u001b[1;33m\u001b[0m\u001b[0m\n\u001b[0;32m     41\u001b[0m         \u001b[0mprint\u001b[0m\u001b[1;33m(\u001b[0m\u001b[1;34m\"No solution found!\"\u001b[0m\u001b[1;33m)\u001b[0m\u001b[1;33m\u001b[0m\u001b[1;33m\u001b[0m\u001b[0m\n",
      "\u001b[1;32mD:\\jupyter\\Artificial Intelligence\\c.ipynb\u001b[0m in \u001b[0;36mbs\u001b[1;34m(self, assignment)\u001b[0m\n",
      "\u001b[1;31mNameError\u001b[0m: name 'assigment' is not defined"
     ]
    }
   ],
   "source": [
    "import import_ipynb\n",
    "from c import Constraint, CSP\n",
    "from typing import Dict, List, Optional\n",
    "\n",
    "\n",
    "class MCC(Constraint[str, str]):\n",
    "    def __init__(self, place1: str, place2: str) -> None:\n",
    "        super().__init__([place1, place2])\n",
    "        self.place1: str = place1\n",
    "        self.place2: str = place2\n",
    "            \n",
    "    def satisfied(self, assignment: Dict[str, str]) -> bool:\n",
    "        # if either place is not in the assignment \n",
    "        # then it is not yet possible for their colors to be consflicting\n",
    "        if self.place1 not in assigment or self.place2 not in assignment:\n",
    "            return True\n",
    "        # Check the color assigned to place1 is not the same\n",
    "        # as the color assigned to place2\n",
    "        return assignment[self.place1] != assignment[self.place2]\n",
    "\n",
    "if __name__ == \"__main__\":\n",
    "    variables: List[str] = [\"Western Australia\", \"Northern Territory\", \"South Australia\",\n",
    "                            \"Queensland\", \"New South Wales\", \"Victoria\", \"Tasmania\"]\n",
    "    domains: Dict[str, List[str]] = {}\n",
    "    for variable in variables:\n",
    "        domains[variable] = [\"red\", \"green\", \"blue\"]\n",
    "    c: CSP[str, str] = CSP(variables, domains)\n",
    "    c.add_constraint(MCC(\"Western Australia\", \"Northern Territory\"))\n",
    "    c.add_constraint(MCC(\"Western Australia\", \"South Australia\"))\n",
    "    c.add_constraint(MCC(\"South Australia\", \"Northern Territory\"))\n",
    "    c.add_constraint(MCC(\"Queensland\", \"Northern Territory\"))\n",
    "    c.add_constraint(MCC(\"Queensland\", \"South Australia\"))\n",
    "    c.add_constraint(MCC(\"Queensland\", \"New South Wales\"))\n",
    "    c.add_constraint(MCC(\"New South Wales\", \"South Australia\"))\n",
    "    c.add_constraint(MCC(\"Victoria\", \"South Australia\"))\n",
    "    c.add_constraint(MCC(\"Victoria\", \"New South Wales\"))\n",
    "    c.add_constraint(MCC(\"Victoria\", \"Tasmania\"))\n",
    "    \n",
    "    solution: Optional[Dict[str, str]] = c.bs()\n",
    "    if solution is None:\n",
    "        print(\"No solution found!\")\n",
    "    else:\n",
    "        print(solution)"
   ]
  },
  {
   "cell_type": "code",
   "execution_count": null,
   "id": "general-elimination",
   "metadata": {},
   "outputs": [],
   "source": []
  }
 ],
 "metadata": {
  "kernelspec": {
   "display_name": "Python 3",
   "language": "python",
   "name": "python3"
  },
  "language_info": {
   "codemirror_mode": {
    "name": "ipython",
    "version": 3
   },
   "file_extension": ".py",
   "mimetype": "text/x-python",
   "name": "python",
   "nbconvert_exporter": "python",
   "pygments_lexer": "ipython3",
   "version": "3.9.2"
  }
 },
 "nbformat": 4,
 "nbformat_minor": 5
}
