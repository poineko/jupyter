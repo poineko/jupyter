{
 "cells": [
  {
   "cell_type": "code",
   "execution_count": 9,
   "id": "excited-greece",
   "metadata": {},
   "outputs": [
    {
     "name": "stdout",
     "output_type": "stream",
     "text": [
      "{'Tasmania': 'red', 'South Australia': 'red', 'Victoria': 'green', 'New South Wales': 'blue', 'Queensland': 'green', 'Northern Territory': 'blue', 'Western Australia': 'green'}\n"
     ]
    }
   ],
   "source": [
    "import import_ipynb\n",
    "from csp2 import *\n",
    "\n",
    "problem = Problem()\n",
    "\n",
    "colors = [\"red\", \"green\", \"blue\"]\n",
    "states = [\"Western Australia\",\"Northern Territory\",\"Queensland\",\"New South Wales\",\"Victoria\",\"South Australia\",\"Tasmania\"]\n",
    "\n",
    "for state in states:\n",
    "    problem.add_variable(Variable(state, colors))\n",
    "\n",
    "problem.add_constraint(AllDifferentConstraint([\"Western Australia\", \"Northern Territory\"]))\n",
    "problem.add_constraint(AllDifferentConstraint([\"Western Australia\", \"South Australia\"]))\n",
    "problem.add_constraint(AllDifferentConstraint([\"South Australia\", \"Northern Territory\"]))\n",
    "problem.add_constraint(AllDifferentConstraint([\"Queensland\", \"Northern Territory\"]))\n",
    "problem.add_constraint(AllDifferentConstraint([\"Queensland\", \"South Australia\"]))\n",
    "problem.add_constraint(AllDifferentConstraint([\"Queensland\", \"New South Wales\"]))\n",
    "problem.add_constraint(AllDifferentConstraint([\"New South Wales\", \"South Australia\"]))\n",
    "problem.add_constraint(AllDifferentConstraint([\"Victoria\", \"South Australia\"]))\n",
    "problem.add_constraint(AllDifferentConstraint([\"Victoria\", \"New South Wales\"]))\n",
    "problem.add_constraint(AllDifferentConstraint([\"Victoria\", \"Tasmania\"]))\n",
    "\n",
    "                       \n",
    "print(problem.get_solutions()[0])              "
   ]
  },
  {
   "cell_type": "code",
   "execution_count": null,
   "id": "eight-theater",
   "metadata": {},
   "outputs": [],
   "source": []
  }
 ],
 "metadata": {
  "kernelspec": {
   "display_name": "Python 3",
   "language": "python",
   "name": "python3"
  },
  "language_info": {
   "codemirror_mode": {
    "name": "ipython",
    "version": 3
   },
   "file_extension": ".py",
   "mimetype": "text/x-python",
   "name": "python",
   "nbconvert_exporter": "python",
   "pygments_lexer": "ipython3",
   "version": "3.9.2"
  }
 },
 "nbformat": 4,
 "nbformat_minor": 5
}
