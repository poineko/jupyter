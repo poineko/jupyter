{
 "cells": [
  {
   "cell_type": "markdown",
   "id": "neither-cleaners",
   "metadata": {},
   "source": [
    "     NAMA  : MUHAMMAD IHSAN AL RIAWI"
   ]
  },
  {
   "cell_type": "markdown",
   "id": "vocational-benefit",
   "metadata": {},
   "source": [
    "     NPM   : 193510482"
   ]
  },
  {
   "cell_type": "markdown",
   "id": "controlling-afghanistan",
   "metadata": {},
   "source": [
    "# Linear Optimization"
   ]
  },
  {
   "cell_type": "markdown",
   "id": "everyday-liability",
   "metadata": {},
   "source": [
    "## A Simple Example"
   ]
  },
  {
   "cell_type": "markdown",
   "id": "subtle-officer",
   "metadata": {},
   "source": [
    "Maximize 3x + 4y subject to the following constraints:\n",
    "    x + 2y\t≤\t14;\n",
    "    3x – y\t≥\t0;\n",
    "    x – y\t≤\t2;"
   ]
  },
  {
   "cell_type": "markdown",
   "id": "offensive-infrared",
   "metadata": {},
   "source": [
    "### Import the linear solver wrapper"
   ]
  },
  {
   "cell_type": "code",
   "execution_count": 1,
   "id": "chicken-papua",
   "metadata": {},
   "outputs": [],
   "source": [
    "from ortools.linear_solver import pywraplp"
   ]
  },
  {
   "cell_type": "markdown",
   "id": "above-lancaster",
   "metadata": {},
   "source": [
    "### Declare the LP solver"
   ]
  },
  {
   "cell_type": "code",
   "execution_count": 2,
   "id": "rubber-witness",
   "metadata": {},
   "outputs": [],
   "source": [
    "solver = pywraplp.Solver.CreateSolver('GLOP')"
   ]
  },
  {
   "cell_type": "markdown",
   "id": "comprehensive-limitation",
   "metadata": {},
   "source": [
    "### Create the variables"
   ]
  },
  {
   "cell_type": "code",
   "execution_count": 3,
   "id": "dirty-campaign",
   "metadata": {},
   "outputs": [
    {
     "name": "stdout",
     "output_type": "stream",
     "text": [
      "Number of variables = 2\n"
     ]
    }
   ],
   "source": [
    "x = solver.NumVar(0, solver.infinity(), 'x')\n",
    "y = solver.NumVar(0, solver.infinity(), 'y')\n",
    "\n",
    "print('Number of variables =', solver.NumVariables())"
   ]
  },
  {
   "cell_type": "markdown",
   "id": "strange-stopping",
   "metadata": {},
   "source": [
    "### Define the constraints"
   ]
  },
  {
   "cell_type": "code",
   "execution_count": 4,
   "id": "elder-lawrence",
   "metadata": {},
   "outputs": [
    {
     "name": "stdout",
     "output_type": "stream",
     "text": [
      "Number of constraints = 3\n"
     ]
    }
   ],
   "source": [
    "# Constraint 0: x + 2y <= 14.\n",
    "solver.Add(x + 2 * y <= 14.0)\n",
    "\n",
    "# Constraint 1: 3x - y >= 0.\n",
    "solver.Add(3 * x - y >= 0.0)\n",
    "\n",
    "# Constraint 2: x - y <= 2.\n",
    "solver.Add(x - y <= 2.0)\n",
    "\n",
    "print('Number of constraints =', solver.NumConstraints())"
   ]
  },
  {
   "cell_type": "markdown",
   "id": "occasional-survey",
   "metadata": {},
   "source": [
    "### Define the objective function "
   ]
  },
  {
   "cell_type": "code",
   "execution_count": 5,
   "id": "rapid-improvement",
   "metadata": {},
   "outputs": [],
   "source": [
    "# Objective function: 3x + 4y.\n",
    "solver.Maximize(3 * x + 4 * y)"
   ]
  },
  {
   "cell_type": "markdown",
   "id": "mediterranean-nerve",
   "metadata": {},
   "source": [
    "### Invoke the solver"
   ]
  },
  {
   "cell_type": "code",
   "execution_count": 6,
   "id": "southern-behavior",
   "metadata": {},
   "outputs": [],
   "source": [
    "status = solver.Solve()"
   ]
  },
  {
   "cell_type": "markdown",
   "id": "continued-characterization",
   "metadata": {},
   "source": [
    "### Display the solution"
   ]
  },
  {
   "cell_type": "code",
   "execution_count": 7,
   "id": "swiss-primary",
   "metadata": {},
   "outputs": [
    {
     "name": "stdout",
     "output_type": "stream",
     "text": [
      "Solution:\n",
      "Objective value = 33.99999999999999\n",
      "x = 5.999999999999998\n",
      "y = 3.9999999999999996\n"
     ]
    }
   ],
   "source": [
    "if status == pywraplp.Solver.OPTIMAL:\n",
    "    print('Solution:')\n",
    "    print('Objective value =', solver.Objective().Value())\n",
    "    print('x =', x.solution_value())\n",
    "    print('y =', y.solution_value())\n",
    "else:\n",
    "    print('The problem does not have an optimal solution.')"
   ]
  }
 ],
 "metadata": {
  "kernelspec": {
   "display_name": "Python 3",
   "language": "python",
   "name": "python3"
  },
  "language_info": {
   "codemirror_mode": {
    "name": "ipython",
    "version": 3
   },
   "file_extension": ".py",
   "mimetype": "text/x-python",
   "name": "python",
   "nbconvert_exporter": "python",
   "pygments_lexer": "ipython3",
   "version": "3.9.2"
  }
 },
 "nbformat": 4,
 "nbformat_minor": 5
}
