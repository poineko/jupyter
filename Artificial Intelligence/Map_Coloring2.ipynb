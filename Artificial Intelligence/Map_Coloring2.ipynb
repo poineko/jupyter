{
 "cells": [
  {
   "cell_type": "markdown",
   "id": "remarkable-watch",
   "metadata": {},
   "source": [
    "        NAMA   : Muhammad Ihsan Al Rawi\n",
    "        NPM    : 1935104782\n",
    "        KELAS  : IV E"
   ]
  },
  {
   "cell_type": "code",
   "execution_count": 1,
   "id": "combined-kingston",
   "metadata": {},
   "outputs": [
    {
     "name": "stdout",
     "output_type": "stream",
     "text": [
      "importing Jupyter notebook from csp1.ipynb\n"
     ]
    }
   ],
   "source": [
    "import import_ipynb\n",
    "from csp1 import Constraint, CSP\n",
    "from typing import Dict, List, Optional\n",
    "\n",
    "\n",
    "class MapColoringConstraint(Constraint[str, str]):\n",
    "    def __init__(self, place1: str, place2: str) -> None:\n",
    "        super().__init__([place1, place2])\n",
    "        self.place1: str = place1\n",
    "        self.place2: str = place2\n",
    "\n",
    "    def satisfied(self, assignment: Dict[str, str]) -> bool:\n",
    "        # If either place is not in the assignment then it is not\n",
    "        # yet possible for their colors to be conflicting\n",
    "        if self.place1 not in assignment or self.place2 not in assignment:\n",
    "            return True\n",
    "        # check the color assigned to place1 is not the same as the\n",
    "        # color assigned to place2\n",
    "        return assignment[self.place1] != assignment[self.place2]\n",
    "\n",
    "\n"
   ]
  },
  {
   "cell_type": "code",
   "execution_count": 2,
   "id": "centered-understanding",
   "metadata": {},
   "outputs": [],
   "source": [
    "if __name__ == \"__main__\":\n",
    "    variables: List[str] = [\"Western Australia\", \"Northern Territory\", \"South Australia\",\n",
    "                            \"Queensland\", \"New South Wales\", \"Victoria\", \"Tasmania\"]\n",
    "    domains: Dict[str, List[str]] = {}\n",
    "    for variable in variables:\n",
    "        domains[variable] = [\"red\", \"green\", \"blue\"]\n",
    "    csp: CSP[str, str] = CSP(variables, domains)\n",
    "    csp.add_constraint(MapColoringConstraint(\"Western Australia\", \"Northern Territory\"))\n",
    "    csp.add_constraint(MapColoringConstraint(\"Western Australia\", \"South Australia\"))\n",
    "    csp.add_constraint(MapColoringConstraint(\"South Australia\", \"Northern Territory\"))\n",
    "    csp.add_constraint(MapColoringConstraint(\"Queensland\", \"Northern Territory\"))\n",
    "    csp.add_constraint(MapColoringConstraint(\"Queensland\", \"South Australia\"))\n",
    "    csp.add_constraint(MapColoringConstraint(\"Queensland\", \"New South Wales\"))\n",
    "    csp.add_constraint(MapColoringConstraint(\"New South Wales\", \"South Australia\"))\n",
    "    csp.add_constraint(MapColoringConstraint(\"Victoria\", \"South Australia\"))\n",
    "    csp.add_constraint(MapColoringConstraint(\"Victoria\", \"New South Wales\"))\n",
    "    csp.add_constraint(MapColoringConstraint(\"Victoria\", \"Tasmania\"))"
   ]
  },
  {
   "cell_type": "code",
   "execution_count": 6,
   "id": "geological-jacket",
   "metadata": {},
   "outputs": [
    {
     "name": "stdout",
     "output_type": "stream",
     "text": [
      "{'Western Australia': 'red', 'Northern Territory': 'green', 'South Australia': 'blue', 'Queensland': 'red', 'New South Wales': 'green', 'Victoria': 'red', 'Tasmania': 'green'}\n"
     ]
    }
   ],
   "source": [
    "    solution: Optional[Dict[str, str]] = csp.backtracking_search()\n",
    "    if solution is None:\n",
    "        print(\"No solution found!\")\n",
    "    else:\n",
    "        print(solution)"
   ]
  }
 ],
 "metadata": {
  "kernelspec": {
   "display_name": "Python 3",
   "language": "python",
   "name": "python3"
  },
  "language_info": {
   "codemirror_mode": {
    "name": "ipython",
    "version": 3
   },
   "file_extension": ".py",
   "mimetype": "text/x-python",
   "name": "python",
   "nbconvert_exporter": "python",
   "pygments_lexer": "ipython3",
   "version": "3.9.2"
  }
 },
 "nbformat": 4,
 "nbformat_minor": 5
}
