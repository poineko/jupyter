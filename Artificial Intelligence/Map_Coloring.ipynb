{
 "cells": [
  {
   "cell_type": "code",
   "execution_count": 1,
   "id": "european-moderator",
   "metadata": {},
   "outputs": [
    {
     "name": "stdout",
     "output_type": "stream",
     "text": [
      "importing Jupyter notebook from csp.ipynb\n"
     ]
    }
   ],
   "source": [
    "import import_ipynb\n",
    "from csp import Constraint, CSP\n",
    "from typing import Dict, List, Optional\n",
    "\n",
    "\n",
    "class MapColoringConstraint(Constraint[str, str]):\n",
    "    def __init__(self, place1: str, place2: str) -> None:\n",
    "        super().__init__([place1, place2])\n",
    "        self.place1: str = place1\n",
    "        self.place2: str = place2\n",
    "            \n",
    "    def satisfied(self, assignment: Dict[str, str]) -> bool:\n",
    "        # if either place is not in the assignment \n",
    "        # then it is not yet possible for their colors to be consflicting\n",
    "        if self.place1 not in assigment or self.place2 not in assignment:\n",
    "            return True\n",
    "        # Check the color assigned to place1 is not the same\n",
    "        # as the color assigned to place2\n",
    "        return assignment[self.place1] != assignment[self.place2]\n",
    "    \n",
    "    "
   ]
  },
  {
   "cell_type": "code",
   "execution_count": 2,
   "id": "tested-pickup",
   "metadata": {
    "scrolled": true
   },
   "outputs": [
    {
     "ename": "NameError",
     "evalue": "name 'List' is not defined",
     "output_type": "error",
     "traceback": [
      "\u001b[1;31m---------------------------------------------------------------------------\u001b[0m",
      "\u001b[1;31mNameError\u001b[0m                                 Traceback (most recent call last)",
      "\u001b[1;32m<ipython-input-2-9862430732d7>\u001b[0m in \u001b[0;36m<module>\u001b[1;34m\u001b[0m\n\u001b[0;32m      1\u001b[0m \u001b[1;32mif\u001b[0m \u001b[0m__name__\u001b[0m \u001b[1;33m==\u001b[0m \u001b[1;34m\"__main__\"\u001b[0m\u001b[1;33m:\u001b[0m\u001b[1;33m\u001b[0m\u001b[1;33m\u001b[0m\u001b[0m\n\u001b[1;32m----> 2\u001b[1;33m     variables: List[str] = [\"Western Australia\", \"Northern Territory\", \"South Australia\",\n\u001b[0m\u001b[0;32m      3\u001b[0m                             \"Queensland\", \"New South Wales\", \"Victoria\", \"Tasmania\"]\n\u001b[0;32m      4\u001b[0m     \u001b[0mdomains\u001b[0m\u001b[1;33m:\u001b[0m \u001b[0mDict\u001b[0m\u001b[1;33m[\u001b[0m\u001b[0mstr\u001b[0m\u001b[1;33m,\u001b[0m \u001b[0mList\u001b[0m\u001b[1;33m[\u001b[0m\u001b[0mstr\u001b[0m\u001b[1;33m]\u001b[0m\u001b[1;33m]\u001b[0m \u001b[1;33m=\u001b[0m \u001b[1;33m{\u001b[0m\u001b[1;33m}\u001b[0m\u001b[1;33m\u001b[0m\u001b[1;33m\u001b[0m\u001b[0m\n\u001b[0;32m      5\u001b[0m     \u001b[1;32mfor\u001b[0m \u001b[0mvariable\u001b[0m \u001b[1;32min\u001b[0m \u001b[0mvariables\u001b[0m\u001b[1;33m:\u001b[0m\u001b[1;33m\u001b[0m\u001b[1;33m\u001b[0m\u001b[0m\n",
      "\u001b[1;31mNameError\u001b[0m: name 'List' is not defined"
     ]
    }
   ],
   "source": [
    "if __name__ == \"__main__\":\n",
    "    variables: List[str] = [\"Western Australia\", \"Northern Territory\", \"South Australia\",\n",
    "                            \"Queensland\", \"New South Wales\", \"Victoria\", \"Tasmania\"]\n",
    "    domains: Dict[str, List[str]] = {}\n",
    "    for variable in variables:\n",
    "        domains[variable] = [\"red\", \"green\", \"blue\"]\n",
    "    csp: CSP[str, str] = CSP(variables, domains)\n",
    "    csp.add_constraint(MapColoringConstraint(\"Western Australia\", \"Northern Territory\"))\n",
    "    csp.add_constraint(MapColoringConstraint(\"Western Australia\", \"South Australia\"))\n",
    "    csp.add_constraint(MapColoringConstraint(\"South Australia\", \"Northern Territory\"))\n",
    "    csp.add_constraint(MapColoringConstraint(\"Queensland\", \"Northern Territory\"))\n",
    "    csp.add_constraint(MapColoringConstraint(\"Queensland\", \"South Australia\"))\n",
    "    csp.add_constraint(MapColoringConstraint(\"Queensland\", \"New South Wales\"))\n",
    "    csp.add_constraint(MapColoringConstraint(\"New South Wales\", \"South Australia\"))\n",
    "    csp.add_constraint(MapColoringConstraint(\"Victoria\", \"South Australia\"))\n",
    "    csp.add_constraint(MapColoringConstraint(\"Victoria\", \"New South Wales\"))\n",
    "    csp.add_constraint(MapColoringConstraint(\"Victoria\", \"Tasmania\"))"
   ]
  },
  {
   "cell_type": "code",
   "execution_count": 3,
   "id": "otherwise-oxide",
   "metadata": {
    "scrolled": false
   },
   "outputs": [
    {
     "ename": "AttributeError",
     "evalue": "'CSP' object has no attribute 'backtacking_search'",
     "output_type": "error",
     "traceback": [
      "\u001b[1;31m---------------------------------------------------------------------------\u001b[0m",
      "\u001b[1;31mAttributeError\u001b[0m                            Traceback (most recent call last)",
      "\u001b[1;32m<ipython-input-3-a3a36010afd3>\u001b[0m in \u001b[0;36m<module>\u001b[1;34m\u001b[0m\n\u001b[1;32m----> 1\u001b[1;33m \u001b[0msolution\u001b[0m\u001b[1;33m:\u001b[0m \u001b[0mOptional\u001b[0m\u001b[1;33m[\u001b[0m\u001b[0mDict\u001b[0m\u001b[1;33m[\u001b[0m\u001b[0mstr\u001b[0m\u001b[1;33m,\u001b[0m \u001b[0mstr\u001b[0m\u001b[1;33m]\u001b[0m\u001b[1;33m]\u001b[0m \u001b[1;33m=\u001b[0m \u001b[0mcsp\u001b[0m\u001b[1;33m.\u001b[0m\u001b[0mbacktacking_search\u001b[0m\u001b[1;33m(\u001b[0m\u001b[1;33m)\u001b[0m\u001b[1;33m\u001b[0m\u001b[1;33m\u001b[0m\u001b[0m\n\u001b[0m\u001b[0;32m      2\u001b[0m \u001b[1;32mif\u001b[0m \u001b[0msolution\u001b[0m \u001b[1;32mis\u001b[0m \u001b[1;32mNone\u001b[0m\u001b[1;33m:\u001b[0m\u001b[1;33m\u001b[0m\u001b[1;33m\u001b[0m\u001b[0m\n\u001b[0;32m      3\u001b[0m     \u001b[0mprint\u001b[0m\u001b[1;33m(\u001b[0m\u001b[1;34m\"No solution found!\"\u001b[0m\u001b[1;33m)\u001b[0m\u001b[1;33m\u001b[0m\u001b[1;33m\u001b[0m\u001b[0m\n\u001b[0;32m      4\u001b[0m \u001b[1;32melse\u001b[0m\u001b[1;33m:\u001b[0m\u001b[1;33m\u001b[0m\u001b[1;33m\u001b[0m\u001b[0m\n\u001b[0;32m      5\u001b[0m     \u001b[0mprint\u001b[0m\u001b[1;33m(\u001b[0m\u001b[0msolution\u001b[0m\u001b[1;33m)\u001b[0m\u001b[1;33m\u001b[0m\u001b[1;33m\u001b[0m\u001b[0m\n",
      "\u001b[1;31mAttributeError\u001b[0m: 'CSP' object has no attribute 'backtacking_search'"
     ]
    }
   ],
   "source": [
    "    solution: Optional[Dict[str, str]] = csp.backtacking_search()\n",
    "    if solution is None:\n",
    "        print(\"No solution found!\")\n",
    "    else:\n",
    "        print(solution)"
   ]
  }
 ],
 "metadata": {
  "kernelspec": {
   "display_name": "Python 3",
   "language": "python",
   "name": "python3"
  },
  "language_info": {
   "codemirror_mode": {
    "name": "ipython",
    "version": 3
   },
   "file_extension": ".py",
   "mimetype": "text/x-python",
   "name": "python",
   "nbconvert_exporter": "python",
   "pygments_lexer": "ipython3",
   "version": "3.9.2"
  }
 },
 "nbformat": 4,
 "nbformat_minor": 5
}
